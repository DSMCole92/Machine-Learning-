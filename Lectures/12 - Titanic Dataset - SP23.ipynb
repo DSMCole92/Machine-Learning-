{
 "cells": [
  {
   "cell_type": "markdown",
   "metadata": {},
   "source": [
    "# Lesson 12 - Titanic Dataset\n",
    "\n",
    "### The following topics are discussed in this notebook:\n",
    "### Applying Logistic Regression and KNN Classifiers to the Titanic Dataset\n",
    "Download   the file data/titanic.txt"
   ]
  },
  {
   "cell_type": "code",
   "execution_count": 81,
   "metadata": {},
   "outputs": [],
   "source": [
    "import numpy as np\n",
    "import pandas as pd\n",
    "import matplotlib.pyplot as plt\n",
    "\n",
    "from sklearn.linear_model import LogisticRegression\n",
    "from sklearn.neighbors import KNeighborsClassifier\n",
    "from sklearn.model_selection import train_test_split\n",
    "from sklearn.preprocessing import OneHotEncoder, StandardScaler"
   ]
  },
  {
   "cell_type": "markdown",
   "metadata": {},
   "source": [
    "# Import the Data\n",
    "\n",
    "This dataset contains information about the 887 passengers on the voyage of the Titanic. Of the columns available, we will be particularly interested in the following:\n",
    "\n",
    "* **`Survived`** - Binary variable indicating whether or not the passenger survived the voyage. \n",
    "* **`Pclass`** - Categorical variable indicating the passenger class. \n",
    "* **`Sex`** - Categorical variable indicating the gender of the passenger. \n",
    "* **`Age`** - Age of the passenger.\n",
    "\n",
    "\n",
    "We will create models to predict the survival based on Pclass, Sex, and Age."
   ]
  },
  {
   "cell_type": "code",
   "execution_count": 82,
   "metadata": {},
   "outputs": [
    {
     "data": {
      "text/html": [
       "<div>\n",
       "<style scoped>\n",
       "    .dataframe tbody tr th:only-of-type {\n",
       "        vertical-align: middle;\n",
       "    }\n",
       "\n",
       "    .dataframe tbody tr th {\n",
       "        vertical-align: top;\n",
       "    }\n",
       "\n",
       "    .dataframe thead th {\n",
       "        text-align: right;\n",
       "    }\n",
       "</style>\n",
       "<table border=\"1\" class=\"dataframe\">\n",
       "  <thead>\n",
       "    <tr style=\"text-align: right;\">\n",
       "      <th></th>\n",
       "      <th>Survived</th>\n",
       "      <th>Pclass</th>\n",
       "      <th>Name</th>\n",
       "      <th>Sex</th>\n",
       "      <th>Age</th>\n",
       "      <th>Siblings/Spouses Aboard</th>\n",
       "      <th>Parents/Children Aboard</th>\n",
       "      <th>Fare</th>\n",
       "    </tr>\n",
       "  </thead>\n",
       "  <tbody>\n",
       "    <tr>\n",
       "      <th>0</th>\n",
       "      <td>0</td>\n",
       "      <td>3</td>\n",
       "      <td>Mr. Owen Harris Braund</td>\n",
       "      <td>male</td>\n",
       "      <td>22.0</td>\n",
       "      <td>1</td>\n",
       "      <td>0</td>\n",
       "      <td>7.2500</td>\n",
       "    </tr>\n",
       "    <tr>\n",
       "      <th>1</th>\n",
       "      <td>1</td>\n",
       "      <td>1</td>\n",
       "      <td>Mrs. John Bradley (Florence Briggs Thayer) Cum...</td>\n",
       "      <td>female</td>\n",
       "      <td>38.0</td>\n",
       "      <td>1</td>\n",
       "      <td>0</td>\n",
       "      <td>71.2833</td>\n",
       "    </tr>\n",
       "    <tr>\n",
       "      <th>2</th>\n",
       "      <td>1</td>\n",
       "      <td>3</td>\n",
       "      <td>Miss. Laina Heikkinen</td>\n",
       "      <td>female</td>\n",
       "      <td>26.0</td>\n",
       "      <td>0</td>\n",
       "      <td>0</td>\n",
       "      <td>7.9250</td>\n",
       "    </tr>\n",
       "    <tr>\n",
       "      <th>3</th>\n",
       "      <td>1</td>\n",
       "      <td>1</td>\n",
       "      <td>Mrs. Jacques Heath (Lily May Peel) Futrelle</td>\n",
       "      <td>female</td>\n",
       "      <td>35.0</td>\n",
       "      <td>1</td>\n",
       "      <td>0</td>\n",
       "      <td>53.1000</td>\n",
       "    </tr>\n",
       "    <tr>\n",
       "      <th>4</th>\n",
       "      <td>0</td>\n",
       "      <td>3</td>\n",
       "      <td>Mr. William Henry Allen</td>\n",
       "      <td>male</td>\n",
       "      <td>35.0</td>\n",
       "      <td>0</td>\n",
       "      <td>0</td>\n",
       "      <td>8.0500</td>\n",
       "    </tr>\n",
       "    <tr>\n",
       "      <th>5</th>\n",
       "      <td>0</td>\n",
       "      <td>3</td>\n",
       "      <td>Mr. James Moran</td>\n",
       "      <td>male</td>\n",
       "      <td>27.0</td>\n",
       "      <td>0</td>\n",
       "      <td>0</td>\n",
       "      <td>8.4583</td>\n",
       "    </tr>\n",
       "    <tr>\n",
       "      <th>6</th>\n",
       "      <td>0</td>\n",
       "      <td>1</td>\n",
       "      <td>Mr. Timothy J McCarthy</td>\n",
       "      <td>male</td>\n",
       "      <td>54.0</td>\n",
       "      <td>0</td>\n",
       "      <td>0</td>\n",
       "      <td>51.8625</td>\n",
       "    </tr>\n",
       "    <tr>\n",
       "      <th>7</th>\n",
       "      <td>0</td>\n",
       "      <td>3</td>\n",
       "      <td>Master. Gosta Leonard Palsson</td>\n",
       "      <td>male</td>\n",
       "      <td>2.0</td>\n",
       "      <td>3</td>\n",
       "      <td>1</td>\n",
       "      <td>21.0750</td>\n",
       "    </tr>\n",
       "    <tr>\n",
       "      <th>8</th>\n",
       "      <td>1</td>\n",
       "      <td>3</td>\n",
       "      <td>Mrs. Oscar W (Elisabeth Vilhelmina Berg) Johnson</td>\n",
       "      <td>female</td>\n",
       "      <td>27.0</td>\n",
       "      <td>0</td>\n",
       "      <td>2</td>\n",
       "      <td>11.1333</td>\n",
       "    </tr>\n",
       "    <tr>\n",
       "      <th>9</th>\n",
       "      <td>1</td>\n",
       "      <td>2</td>\n",
       "      <td>Mrs. Nicholas (Adele Achem) Nasser</td>\n",
       "      <td>female</td>\n",
       "      <td>14.0</td>\n",
       "      <td>1</td>\n",
       "      <td>0</td>\n",
       "      <td>30.0708</td>\n",
       "    </tr>\n",
       "  </tbody>\n",
       "</table>\n",
       "</div>"
      ],
      "text/plain": [
       "   Survived  Pclass                                               Name  \\\n",
       "0         0       3                             Mr. Owen Harris Braund   \n",
       "1         1       1  Mrs. John Bradley (Florence Briggs Thayer) Cum...   \n",
       "2         1       3                              Miss. Laina Heikkinen   \n",
       "3         1       1        Mrs. Jacques Heath (Lily May Peel) Futrelle   \n",
       "4         0       3                            Mr. William Henry Allen   \n",
       "5         0       3                                    Mr. James Moran   \n",
       "6         0       1                             Mr. Timothy J McCarthy   \n",
       "7         0       3                      Master. Gosta Leonard Palsson   \n",
       "8         1       3   Mrs. Oscar W (Elisabeth Vilhelmina Berg) Johnson   \n",
       "9         1       2                 Mrs. Nicholas (Adele Achem) Nasser   \n",
       "\n",
       "      Sex   Age  Siblings/Spouses Aboard  Parents/Children Aboard     Fare  \n",
       "0    male  22.0                        1                        0   7.2500  \n",
       "1  female  38.0                        1                        0  71.2833  \n",
       "2  female  26.0                        0                        0   7.9250  \n",
       "3  female  35.0                        1                        0  53.1000  \n",
       "4    male  35.0                        0                        0   8.0500  \n",
       "5    male  27.0                        0                        0   8.4583  \n",
       "6    male  54.0                        0                        0  51.8625  \n",
       "7    male   2.0                        3                        1  21.0750  \n",
       "8  female  27.0                        0                        2  11.1333  \n",
       "9  female  14.0                        1                        0  30.0708  "
      ]
     },
     "execution_count": 82,
     "metadata": {},
     "output_type": "execute_result"
    }
   ],
   "source": [
    "df = pd.read_csv('data/titanic.txt', sep='\\t')\n",
    "df.head(10)"
   ]
  },
  {
   "cell_type": "code",
   "execution_count": 83,
   "metadata": {},
   "outputs": [
    {
     "name": "stdout",
     "output_type": "stream",
     "text": [
      "(887, 8)\n"
     ]
    }
   ],
   "source": [
    "#checking the size of the dataframe\n",
    "print(df.shape)"
   ]
  },
  {
   "cell_type": "code",
   "execution_count": 84,
   "metadata": {},
   "outputs": [
    {
     "data": {
      "text/plain": [
       "Survived                   0\n",
       "Pclass                     0\n",
       "Name                       0\n",
       "Sex                        0\n",
       "Age                        0\n",
       "Siblings/Spouses Aboard    0\n",
       "Parents/Children Aboard    0\n",
       "Fare                       0\n",
       "dtype: int64"
      ]
     },
     "execution_count": 84,
     "metadata": {},
     "output_type": "execute_result"
    }
   ],
   "source": [
    "#checking how many NA values we have in each column of the dataframe\n",
    "df.isna().sum()"
   ]
  },
  {
   "cell_type": "markdown",
   "metadata": {},
   "source": [
    "# Visually Inspect Data"
   ]
  },
  {
   "cell_type": "code",
   "execution_count": 85,
   "metadata": {},
   "outputs": [
    {
     "data": {
      "image/png": "[encoded data removed]",
      "text/plain": [
       "<Figure size 432x288 with 1 Axes>"
      ]
     },
     "metadata": {
      "needs_background": "light"
     },
     "output_type": "display_data"
    }
   ],
   "source": [
    "female_survival_rate = np.sum((df.Sex == 'female') & (df.Survived == 1)) / np.sum(df.Sex == 'female')\n",
    "male_survival_rate = np.sum((df.Sex == 'male') & (df.Survived == 1)) / np.sum(df.Sex == 'male')\n",
    "sex_survival_rates = np.array([female_survival_rate, male_survival_rate])\n",
    "sex_death_rates = 1 - sex_survival_rates\n",
    "\n",
    "plt.figure(figsize=[6,4])\n",
    "plt.bar(range(2),sex_survival_rates, label='Survived', color='cornflowerblue')\n",
    "plt.bar(range(2),sex_death_rates, label='Died', bottom=sex_survival_rates, color='Salmon')\n",
    "plt.legend(loc=\"center left\", bbox_to_anchor=(1.03,0.5))\n",
    "plt.xticks(range(2), ['Female', 'Male'])\n",
    "plt.ylabel('Proportion')\n",
    "plt.title('Survival Rate by Sex')\n",
    "plt.show()"
   ]
  },
  {
   "cell_type": "code",
   "execution_count": 86,
   "metadata": {},
   "outputs": [
    {
     "data": {
      "image/png": "[encoded data removed]",
      "text/plain": [
       "<Figure size 432x288 with 1 Axes>"
      ]
     },
     "metadata": {
      "needs_background": "light"
     },
     "output_type": "display_data"
    }
   ],
   "source": [
    "class1_survival_rate = np.sum((df.Pclass == 1) & (df.Survived == 1)) / np.sum(df.Pclass == 1)\n",
    "class2_survival_rate = np.sum((df.Pclass == 2) & (df.Survived == 1)) / np.sum(df.Pclass == 2)\n",
    "class3_survival_rate = np.sum((df.Pclass == 3) & (df.Survived == 1)) / np.sum(df.Pclass == 3)\n",
    "class_survival_rates = np.array([class1_survival_rate, class2_survival_rate, class3_survival_rate])\n",
    "class_death_rates = 1 - class_survival_rates\n",
    "\n",
    "plt.figure(figsize=[6,4])\n",
    "plt.bar(range(3),class_survival_rates, label='Survived', color='cornflowerblue')\n",
    "plt.bar(range(3),class_death_rates, label='Died', bottom=class_survival_rates, color='Salmon')\n",
    "plt.legend(loc=\"center left\", bbox_to_anchor=(1.03,0.5))\n",
    "plt.xticks(range(3), ['Class 1', 'Class 2', 'Class 3'])\n",
    "plt.ylabel('Proportion')\n",
    "plt.title('Survival Rate by Class')\n",
    "plt.show()"
   ]
  },
  {
   "cell_type": "markdown",
   "metadata": {},
   "source": [
    "# now - let's build some models from this dataframe\n",
    "# Separate Numerical and Categorical Columns"
   ]
  },
  {
   "cell_type": "code",
   "execution_count": 87,
   "metadata": {},
   "outputs": [
    {
     "name": "stdout",
     "output_type": "stream",
     "text": [
      "(887, 1)\n",
      "(887, 2)\n",
      "(887,)\n"
     ]
    }
   ],
   "source": [
    "Xnum = df.iloc[:, [4]].values\n",
    "Xcat = df.iloc[:, [1, 3]].values.astype('str')\n",
    "y = df.iloc[:, 0].values\n",
    "\n",
    "print(Xnum.shape)\n",
    "print(Xcat.shape)\n",
    "print(y.shape)"
   ]
  },
  {
   "cell_type": "markdown",
   "metadata": {},
   "source": [
    "# Create Train Test Split"
   ]
  },
  {
   "cell_type": "code",
   "execution_count": 88,
   "metadata": {},
   "outputs": [
    {
     "name": "stdout",
     "output_type": "stream",
     "text": [
      "(620, 1)\n",
      "(133, 1)\n",
      "(134, 1)\n",
      "\n",
      "(620, 2)\n",
      "(133, 2)\n",
      "(134, 2)\n"
     ]
    }
   ],
   "source": [
    "Xnum_train, Xnum_holdout, y_train, y_holdout = train_test_split(Xnum, y, test_size = 0.3, random_state=1)\n",
    "Xnum_val, Xnum_test, y_val, y_test = train_test_split(Xnum_holdout, y_holdout, test_size = 0.5, random_state=1)\n",
    "\n",
    "Xcat_train, Xcat_holdout, y_train, y_holdout = train_test_split(Xcat, y, test_size = 0.3, random_state=1)\n",
    "Xcat_val, Xcat_test, y_val, y_test = train_test_split(Xcat_holdout, y_holdout, test_size = 0.5, random_state=1)\n",
    "\n",
    "print(Xnum_train.shape)\n",
    "print(Xnum_val.shape)\n",
    "print(Xnum_test.shape)\n",
    "print()\n",
    "print(Xcat_train.shape)\n",
    "print(Xcat_val.shape)\n",
    "print(Xcat_test.shape)"
   ]
  },
  {
   "cell_type": "markdown",
   "metadata": {},
   "source": [
    "# Encode Categorical Features"
   ]
  },
  {
   "cell_type": "code",
   "execution_count": 89,
   "metadata": {},
   "outputs": [
    {
     "name": "stdout",
     "output_type": "stream",
     "text": [
      "(620, 5)\n",
      "(133, 5)\n",
      "(134, 5)\n"
     ]
    }
   ],
   "source": [
    "encoder = OneHotEncoder(sparse=False)\n",
    "encoder.fit(Xcat_train)\n",
    "\n",
    "Xenc_train_ = encoder.transform(Xcat_train)\n",
    "Xenc_val_   = encoder.transform(Xcat_val)\n",
    "Xenc_test_  = encoder.transform(Xcat_test)\n",
    "\n",
    "print(Xenc_train_.shape)\n",
    "print(Xenc_val_.shape)\n",
    "print(Xenc_test_.shape)"
   ]
  },
  {
   "cell_type": "markdown",
   "metadata": {},
   "source": [
    "# Delete extra columns"
   ]
  },
  {
   "cell_type": "code",
   "execution_count": 90,
   "metadata": {},
   "outputs": [
    {
     "name": "stdout",
     "output_type": "stream",
     "text": [
      "(620, 3)\n",
      "(133, 3)\n",
      "(134, 3)\n"
     ]
    }
   ],
   "source": [
    "Xenc_train = np.delete(Xenc_train_, [0, 3], axis=1)\n",
    "Xenc_val = np.delete(Xenc_val_, [0, 3], axis=1)\n",
    "Xenc_test = np.delete(Xenc_test_, [0, 3], axis=1)\n",
    "\n",
    "print(Xenc_train.shape)\n",
    "print(Xenc_val.shape)\n",
    "print(Xenc_test.shape)"
   ]
  },
  {
   "cell_type": "markdown",
   "metadata": {},
   "source": [
    "# Scale Numerical Featuers"
   ]
  },
  {
   "cell_type": "code",
   "execution_count": 91,
   "metadata": {},
   "outputs": [
    {
     "name": "stdout",
     "output_type": "stream",
     "text": [
      "(620, 1)\n",
      "(133, 1)\n",
      "(134, 1)\n"
     ]
    }
   ],
   "source": [
    "scaler = StandardScaler()\n",
    "scaler.fit(Xnum_train)\n",
    "\n",
    "Xsca_train = scaler.transform(Xnum_train)\n",
    "Xsca_val   = scaler.transform(Xnum_val)\n",
    "Xsca_test  = scaler.transform(Xnum_test)\n",
    "\n",
    "print(Xsca_train.shape)\n",
    "print(Xsca_val.shape)\n",
    "print(Xsca_test.shape)\n"
   ]
  },
  {
   "cell_type": "markdown",
   "metadata": {},
   "source": [
    "# Merge Feature Arrays"
   ]
  },
  {
   "cell_type": "code",
   "execution_count": 92,
   "metadata": {},
   "outputs": [
    {
     "name": "stdout",
     "output_type": "stream",
     "text": [
      "(620, 4)\n",
      "(133, 4)\n",
      "(134, 4)\n",
      "[[-0.11262358  0.          1.          1.        ]\n",
      " [-0.66515864  0.          1.          1.        ]\n",
      " [ 0.09457707  0.          1.          1.        ]]\n"
     ]
    }
   ],
   "source": [
    "X_train = np.hstack([Xsca_train, Xenc_train])\n",
    "X_val = np.hstack([Xsca_val, Xenc_val])\n",
    "X_test = np.hstack([Xsca_test, Xenc_test])\n",
    "\n",
    "print(X_train.shape)\n",
    "print(X_val.shape)\n",
    "print(X_test.shape)\n",
    "\n",
    "print(X_train[0:3,:])"
   ]
  },
  {
   "cell_type": "markdown",
   "metadata": {},
   "source": [
    "# Create Logistic Regression Mode"
   ]
  },
  {
   "cell_type": "code",
   "execution_count": 93,
   "metadata": {},
   "outputs": [
    {
     "name": "stdout",
     "output_type": "stream",
     "text": [
      "Training Accuracy:   0.8016129032258065\n",
      "Validation Accuracy: 0.7894736842105263\n"
     ]
    }
   ],
   "source": [
    "#this LogisticRegression model has the default regularization parameter C=1\n",
    "logreg_model = LogisticRegression(solver='lbfgs')\n",
    "logreg_model.fit(X_train, y_train)\n",
    "\n",
    "print('Training Accuracy:  ', logreg_model.score(X_train, y_train))\n",
    "print('Validation Accuracy:', logreg_model.score(X_val, y_val))\n"
   ]
  },
  {
   "cell_type": "markdown",
   "metadata": {},
   "source": [
    "## Perhaps we can get better results with the different C?\n",
    "## Select Value of Regularization Parameter C"
   ]
  },
  {
   "cell_type": "code",
   "execution_count": 94,
   "metadata": {},
   "outputs": [
    {
     "name": "stdout",
     "output_type": "stream",
     "text": [
      "\n",
      "EXP_LIST\n",
      "[-3.  -2.8 -2.6 -2.4 -2.2 -2.  -1.8 -1.6 -1.4 -1.2 -1.  -0.8 -0.6 -0.4\n",
      " -0.2  0.   0.2  0.4  0.6  0.8  1.   1.2  1.4  1.6  1.8  2.   2.2  2.4\n",
      "  2.6  2.8  3. ]\n",
      "\n",
      "VAL_ACC\n",
      "[0.6090225563909775, 0.6090225563909775, 0.6090225563909775, 0.6090225563909775, 0.6390977443609023, 0.6917293233082706, 0.7518796992481203, 0.7669172932330827, 0.7669172932330827, 0.7744360902255639, 0.7819548872180451, 0.7819548872180451, 0.7744360902255639, 0.7819548872180451, 0.7894736842105263, 0.7894736842105263, 0.7969924812030075, 0.7969924812030075, 0.7969924812030075, 0.7969924812030075, 0.7969924812030075, 0.7894736842105263, 0.7894736842105263, 0.7969924812030075, 0.7969924812030075, 0.7969924812030075, 0.7969924812030075, 0.7969924812030075, 0.7969924812030075, 0.7969924812030075, 0.7969924812030075]\n",
      "\n",
      "MAX VAL_ACC is  0.7969924812030075\n"
     ]
    },
    {
     "data": {
      "image/png": "[encoded data removed]",
      "text/plain": [
       "<Figure size 432x288 with 1 Axes>"
      ]
     },
     "metadata": {
      "needs_background": "light"
     },
     "output_type": "display_data"
    }
   ],
   "source": [
    "exp_list = np.linspace(-3,3, 31)\n",
    "print(\"\\nEXP_LIST\")\n",
    "print(exp_list)\n",
    "tr_acc = []\n",
    "va_acc = []\n",
    "\n",
    "for k in exp_list:\n",
    "    temp_model = LogisticRegression(solver='lbfgs', C=10**k)\n",
    "    temp_model.fit(X_train, y_train)\n",
    "\n",
    "    tr_acc.append(temp_model.score(X_train, y_train))\n",
    "    va_acc.append(temp_model.score(X_val, y_val))\n",
    "   \n",
    "print(\"\\nVAL_ACC\")\n",
    "print(va_acc)\n",
    "print()\n",
    "print(\"MAX VAL_ACC is \", max(va_acc))\n",
    "\n",
    "plt.figure(figsize=([6,4]))\n",
    "plt.plot(exp_list, tr_acc, label='Training Accuracy')\n",
    "plt.plot(exp_list, va_acc, label='Validation Accuracy')\n",
    "plt.xlabel('EXP_LIST')\n",
    "plt.ylabel('Accuracy')\n",
    "plt.legend()\n",
    "plt.show()\n"
   ]
  },
  {
   "cell_type": "code",
   "execution_count": 95,
   "metadata": {},
   "outputs": [
    {
     "name": "stdout",
     "output_type": "stream",
     "text": [
      "Training Accuracy:   0.8\n",
      "Validation Accuracy: 0.7969924812030075\n",
      "Testing Accuracy:    0.746268656716418\n"
     ]
    }
   ],
   "source": [
    "#note that the largest validation score we get for C between  10**1.6 and 10**3\n",
    "#the VAL_SCORE is the same in that range\n",
    "#let's pick  C=10**2\n",
    "logreg_model = LogisticRegression(solver='lbfgs', C=10**2)\n",
    "logreg_model.fit(X_train, y_train)\n",
    "\n",
    "print('Training Accuracy:  ', logreg_model.score(X_train, y_train))\n",
    "print('Validation Accuracy:', logreg_model.score(X_val, y_val))\n",
    "print('Testing Accuracy:   ', logreg_model.score(X_test, y_test))"
   ]
  },
  {
   "cell_type": "markdown",
   "metadata": {},
   "source": [
    "# Now we build a sequence of KNN models with p=2\n",
    "# and choose the best one"
   ]
  },
  {
   "cell_type": "code",
   "execution_count": 96,
   "metadata": {},
   "outputs": [
    {
     "data": {
      "image/png": "[encoded data removed]",
      "text/plain": [
       "<Figure size 432x288 with 1 Axes>"
      ]
     },
     "metadata": {
      "needs_background": "light"
     },
     "output_type": "display_data"
    }
   ],
   "source": [
    "tr_acc = []\n",
    "va_acc = []\n",
    "\n",
    "k_range = range(1, 60)\n",
    "\n",
    "for k in k_range:\n",
    "    # KNeighborsClassifier(k)  has the default of p=2\n",
    "    temp_model = KNeighborsClassifier(k)\n",
    "    temp_model.fit(X_train, y_train)\n",
    "\n",
    "    tr_acc.append(temp_model.score(X_train, y_train))\n",
    "    va_acc.append(temp_model.score(X_val, y_val))\n",
    "    \n",
    "plt.figure(figsize=([6,4]))\n",
    "plt.plot(k_range, tr_acc, label='Training Accuracy')\n",
    "plt.plot(k_range, va_acc, label='Validation Accuracy')\n",
    "plt.xlabel('K')\n",
    "plt.ylabel('Accuracy')\n",
    "plt.legend()\n",
    "plt.show()"
   ]
  },
  {
   "cell_type": "code",
   "execution_count": 97,
   "metadata": {},
   "outputs": [
    {
     "name": "stdout",
     "output_type": "stream",
     "text": [
      "3\n",
      "[0.7518796992481203, 0.7593984962406015, 0.8195488721804511, 0.8345864661654135, 0.8120300751879699, 0.8045112781954887, 0.7819548872180451, 0.7819548872180451, 0.7819548872180451, 0.7894736842105263, 0.8045112781954887, 0.7819548872180451, 0.8045112781954887, 0.7819548872180451, 0.7744360902255639, 0.7819548872180451, 0.7819548872180451, 0.7819548872180451, 0.7969924812030075, 0.7894736842105263, 0.7894736842105263, 0.7969924812030075, 0.8120300751879699, 0.7894736842105263, 0.8120300751879699, 0.7894736842105263, 0.8045112781954887, 0.7969924812030075, 0.7969924812030075, 0.7894736842105263, 0.7969924812030075, 0.7969924812030075, 0.8045112781954887, 0.8045112781954887, 0.8045112781954887, 0.8045112781954887, 0.8045112781954887, 0.8120300751879699, 0.8120300751879699, 0.8195488721804511, 0.8195488721804511, 0.8120300751879699, 0.8120300751879699, 0.8045112781954887, 0.8045112781954887, 0.8045112781954887, 0.8045112781954887, 0.7969924812030075, 0.7969924812030075, 0.7969924812030075, 0.7969924812030075, 0.7969924812030075, 0.8045112781954887, 0.7969924812030075, 0.7969924812030075, 0.7894736842105263, 0.8045112781954887, 0.7969924812030075, 0.7969924812030075]\n"
     ]
    }
   ],
   "source": [
    "#here we simply pick which K gives us the largest VALUATION SCORE (saved in va_acc)\n",
    "print(np.argmax(va_acc))\n",
    "print(va_acc)"
   ]
  },
  {
   "cell_type": "code",
   "execution_count": 98,
   "metadata": {},
   "outputs": [
    {
     "name": "stdout",
     "output_type": "stream",
     "text": [
      "Training Accuracy:   0.8483870967741935\n",
      "Validation Accuracy: 0.8345864661654135\n"
     ]
    }
   ],
   "source": [
    "knn_model = KNeighborsClassifier(4)\n",
    "#note that the MAX value in VA_ACC is in VA_ACC[3].  That corresponds to 3+1  or   4-nearest-neighbors\n",
    "knn_model.fit(X_train, y_train)\n",
    "\n",
    "print('Training Accuracy:  ', knn_model.score(X_train, y_train))\n",
    "print('Validation Accuracy:', knn_model.score(X_val, y_val))"
   ]
  },
  {
   "cell_type": "code",
   "execution_count": 99,
   "metadata": {},
   "outputs": [
    {
     "name": "stdout",
     "output_type": "stream",
     "text": [
      "Testing Accuracy:    0.8059701492537313\n"
     ]
    }
   ],
   "source": [
    "print('Testing Accuracy:   ', knn_model.score(X_test, y_test))"
   ]
  },
  {
   "cell_type": "markdown",
   "metadata": {},
   "source": [
    "## Generating Predictions"
   ]
  },
  {
   "cell_type": "markdown",
   "metadata": {},
   "source": [
    "We will use our models to generate predictions for 18 individuals representing all possible combinations of the following feature values:\n",
    "\n",
    "* **`Sex`** - Female, or Male\n",
    "* **`Class`** - 1, 2, or 3\n",
    "* **`Age`** - 10, 20, or 40"
   ]
  },
  {
   "cell_type": "code",
   "execution_count": 100,
   "metadata": {},
   "outputs": [
    {
     "name": "stdout",
     "output_type": "stream",
     "text": [
      "[['10' '1' 'male']\n",
      " ['10' '2' 'male']\n",
      " ['10' '3' 'male']\n",
      " ['10' '1' 'female']\n",
      " ['10' '2' 'female']\n",
      " ['10' '3' 'female']]\n"
     ]
    }
   ],
   "source": [
    "X_new_10 = np.array([[10, 1, 'male'], [10, 2, 'male'], [10, 3, 'male'], \n",
    "                     [10, 1, 'female'], [10, 2, 'female'], [10, 3, 'female'],])\n",
    "print(X_new_10)\n",
    "\n",
    "X_new_20 = np.array([[20, 1, 'male'], [20, 2, 'male'], [20, 3, 'male'], \n",
    "                     [20, 1, 'female'], [20, 2, 'female'], [20, 3, 'female'],])\n",
    "\n",
    "X_new_40 = np.array([[40, 1, 'male'], [40, 2, 'male'], [40, 3, 'male'], \n",
    "                     [40, 1, 'female'], [40, 2, 'female'], [40, 3, 'female'],])"
   ]
  },
  {
   "cell_type": "markdown",
   "metadata": {},
   "source": [
    "### Process Feature Arrays"
   ]
  },
  {
   "cell_type": "code",
   "execution_count": 101,
   "metadata": {},
   "outputs": [
    {
     "name": "stdout",
     "output_type": "stream",
     "text": [
      "[[-1.35582746  0.          0.          1.        ]\n",
      " [-1.35582746  1.          0.          1.        ]\n",
      " [-1.35582746  0.          1.          1.        ]\n",
      " [-1.35582746  0.          0.          0.        ]\n",
      " [-1.35582746  1.          0.          0.        ]\n",
      " [-1.35582746  0.          1.          0.        ]]\n"
     ]
    }
   ],
   "source": [
    "X_new_sca_10 = scaler.transform(X_new_10[:,[0]].astype('float64'))\n",
    "X_new_enc_10 = np.delete(encoder.transform(X_new_10[:,[1,2]]), [0, 3], axis=1)\n",
    "X_new_pp_10 = np.hstack([X_new_sca_10, X_new_enc_10])\n",
    "print(X_new_pp_10)\n",
    "                        "
   ]
  },
  {
   "cell_type": "code",
   "execution_count": 102,
   "metadata": {},
   "outputs": [
    {
     "name": "stdout",
     "output_type": "stream",
     "text": [
      "[[-0.66515864  0.          0.          1.        ]\n",
      " [-0.66515864  1.          0.          1.        ]\n",
      " [-0.66515864  0.          1.          1.        ]\n",
      " [-0.66515864  0.          0.          0.        ]\n",
      " [-0.66515864  1.          0.          0.        ]\n",
      " [-0.66515864  0.          1.          0.        ]]\n"
     ]
    }
   ],
   "source": [
    "X_new_sca_20 = scaler.transform(X_new_20[:,[0]].astype('float64'))\n",
    "X_new_enc_20 = np.delete(encoder.transform(X_new_20[:,[1,2]]), [0, 3], axis=1)\n",
    "X_new_pp_20 = np.hstack([X_new_sca_20, X_new_enc_20])\n",
    "print(X_new_pp_20)"
   ]
  },
  {
   "cell_type": "code",
   "execution_count": 103,
   "metadata": {},
   "outputs": [
    {
     "name": "stdout",
     "output_type": "stream",
     "text": [
      "[[0.71617901 0.         0.         1.        ]\n",
      " [0.71617901 1.         0.         1.        ]\n",
      " [0.71617901 0.         1.         1.        ]\n",
      " [0.71617901 0.         0.         0.        ]\n",
      " [0.71617901 1.         0.         0.        ]\n",
      " [0.71617901 0.         1.         0.        ]]\n"
     ]
    }
   ],
   "source": [
    "X_new_sca_40 = scaler.transform(X_new_40[:,[0]].astype('float64'))\n",
    "X_new_enc_40 = np.delete(encoder.transform(X_new_40[:,[1,2]]), [0, 3], axis=1)\n",
    "X_new_pp_40 = np.hstack([X_new_sca_40, X_new_enc_40])\n",
    "print(X_new_pp_40)"
   ]
  },
  {
   "cell_type": "markdown",
   "metadata": {},
   "source": [
    "## Generate Predictions using KNN Model"
   ]
  },
  {
   "cell_type": "code",
   "execution_count": 104,
   "metadata": {},
   "outputs": [
    {
     "name": "stdout",
     "output_type": "stream",
     "text": [
      "[1 0 0 1 1 0]\n",
      "[0 0 0 1 1 0]\n",
      "[0 0 0 1 1 0]\n"
     ]
    }
   ],
   "source": [
    "print(knn_model.predict(X_new_pp_10))\n",
    "print(knn_model.predict(X_new_pp_20))\n",
    "print(knn_model.predict(X_new_pp_40))"
   ]
  },
  {
   "cell_type": "markdown",
   "metadata": {},
   "source": [
    "## Generate Predictions using Logistic Regression Model"
   ]
  },
  {
   "cell_type": "code",
   "execution_count": 105,
   "metadata": {},
   "outputs": [
    {
     "name": "stdout",
     "output_type": "stream",
     "text": [
      "[1 0 0 1 1 1]\n",
      "[1 0 0 1 1 1]\n",
      "[0 0 0 1 1 0]\n"
     ]
    }
   ],
   "source": [
    "print(logreg_model.predict(X_new_pp_10))\n",
    "print(logreg_model.predict(X_new_pp_20))\n",
    "print(logreg_model.predict(X_new_pp_40))"
   ]
  },
  {
   "cell_type": "markdown",
   "metadata": {},
   "source": [
    "## Predicting Probabilities with Logistic Regression Model \n",
    "\n",
    "The predict_proba() method.  \n",
    "\n",
    "In the context of classification tasks, some sklearn estimators also implement the predict_proba method that returns the class probabilities for each data point.\n",
    "\n",
    "The method accepts a single argument that corresponds to the data over which the probabilities will be computed and returns an array of lists containing the class probabilities for the input data points."
   ]
  },
  {
   "cell_type": "code",
   "execution_count": 106,
   "metadata": {},
   "outputs": [
    {
     "name": "stdout",
     "output_type": "stream",
     "text": [
      "[[0.56122764 0.43877236]\n",
      " [0.86090288 0.13909712]\n",
      " [0.94905499 0.05094501]\n",
      " [0.08674321 0.91325679]\n",
      " [0.31488018 0.68511982]\n",
      " [0.58042275 0.41957725]]\n"
     ]
    }
   ],
   "source": [
    "print(logreg_model.predict_proba(X_new_pp_40))"
   ]
  },
  {
   "cell_type": "markdown",
   "metadata": {},
   "source": [
    "## Predicting Probabilities with KNN Model "
   ]
  },
  {
   "cell_type": "code",
   "execution_count": 107,
   "metadata": {},
   "outputs": [
    {
     "name": "stdout",
     "output_type": "stream",
     "text": [
      "[[0.75 0.25]\n",
      " [1.   0.  ]\n",
      " [0.75 0.25]\n",
      " [0.   1.  ]\n",
      " [0.   1.  ]\n",
      " [1.   0.  ]]\n"
     ]
    }
   ],
   "source": [
    "print(knn_model.predict_proba(X_new_pp_40))"
   ]
  },
  {
   "cell_type": "code",
   "execution_count": null,
   "metadata": {},
   "outputs": [],
   "source": []
  }
 ],
 "metadata": {
  "kernelspec": {
   "display_name": "Python 3 (ipykernel)",
   "language": "python",
   "name": "python3"
  },
  "language_info": {
   "codemirror_mode": {
    "name": "ipython",
    "version": 3
   },
   "file_extension": ".py",
   "mimetype": "text/x-python",
   "name": "python",
   "nbconvert_exporter": "python",
   "pygments_lexer": "ipython3",
   "version": "3.9.13"
  }
 },
 "nbformat": 4,
 "nbformat_minor": 2
}
