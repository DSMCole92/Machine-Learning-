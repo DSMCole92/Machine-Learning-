{
 "cells": [
  {
   "cell_type": "markdown",
   "metadata": {},
   "source": [
    "# Supervised Learning and Loss Functions\n",
    "\n",
    "The goal in a supervised learning task is to produce a **model** that we can use to predict the value of a label (or response) $y$ given values for a set of features (or predictors), $x^{(1)}, x^{(2)}, ..., x^{(p)}$. This model is typically represented by a **`predict()`** function. \n",
    "\n",
    "When we select a learning algorithm, we are effectively selecting a class of models that we will be considering for our particular task. This set of allowed models is called our **hypothesis space**. Our learning algorithm will search through the hypothesis space to find the model that performs the best on our training data. To determine what model from the hypothesis space is the \"best\", we need to provide the learning algorithm with a method of score different models. Such a scoring method is called an **objective function**. An objective function takes a model and a dataset as input, and produces a numerical score as its output. If an objective function is defined in such a way that lower scores are better, then we call it a **loss** function. The goal of a learning algorithm is to minimize its loss on the training data. \n",
    "\n",
    "We will illustrate these concepts with the **linear regression learning algorithm**. "
   ]
  },
  {
   "cell_type": "markdown",
   "metadata": {},
   "source": [
    "# Lesson 03 - Linear Regression\n",
    "\n",
    "### The following topics are discussed in this notebook:\n",
    "* Loss Functions.\n",
    "* Simple Linear Regression\n",
    "* Multiple Linear Regression\n",
    "* Linear Regression using scikit-learn.\n",
    "\n",
    "### Additional Resources\n",
    "* [Python Data Science Handbook, Ch 2] - intro to NumPy arrays \n",
    "* [Hands-On Machine Learning, Ch 4](https://github.com/ageron/handson-ml/blob/master/04_training_linear_models.ipynb)\n",
    "* [Introduction to Machine Learning, Ch 3](http://www-bcf.usc.edu/~gareth/ISL/ISLR%20Seventh%20Printing.pdf)\n"
   ]
  },
  {
   "cell_type": "markdown",
   "metadata": {},
   "source": [
    "## Linear Regresion\n",
    "\n",
    "*In a simple linear regression task, we have a single FEATURE, `x`, from which we wish to predict a continuous, real-valued LABEL `y`.\n",
    "\n",
    "* Assume that our training set has $n$ observations.\n",
    "* Denote the observed values of the training feature (predictor) as $x_1, x_2, ..., x_n$.\n",
    "* Denote the observed values of the label (response variable) as $y_1, y_2, ..., y_n$.\n",
    "* We assume that our model has the following form: $\\large \\hat{y} = \\hat{\\beta}_0 + \\hat{\\beta}_1 x$.\n",
    "* In the model above, $\\hat{\\beta}_0$ and $\\hat\\beta_1$ are model parameters that are learned from the training data. \n",
    "* $\\hat{y}$ represents the predicted value of $y$ given some value of $x$. \n",
    "\n",
    "### Training the Model\n",
    "\n",
    "* Let $b_0$ and $b_1$ be a pair of (not necessarily optimal) parameter values used to define a model $\\large \\hat{y} = {b}_0 + {b}_1 x$.\n",
    "* For each training observation $(x_i, y_i)$, let $\\large\\hat{y}_i = b_0 + b_1 x_i$. \n",
    "* For each $i$, calculate the error (residual) $\\large\\hat{e}_i = \\hat{y}_i - y_i$. \n",
    "* The goal of the algorithm is to find the parameter values that minimize the Sum of Squared Errors loss function, given by: $ \\large SSE = \\sum \\hat{e}_i^2 $\n",
    "* We will denote the optimal parameter values by $\\hat{\\beta}_0$ and $\\hat{\\beta}_1$."
   ]
  },
  {
   "cell_type": "code",
   "execution_count": 66,
   "metadata": {},
   "outputs": [
    {
     "name": "stdout",
     "output_type": "stream",
     "text": [
      "[1 2 3 4 5]\n",
      "(5,)\n",
      "[ 4.9  7.1  9.3 10.2 13.5]\n",
      "(5,)\n",
      "(5, 1)\n",
      "(5,)\n"
     ]
    }
   ],
   "source": [
    "# First, let's generate some data, define some model for the data, and compute (by hand) the SSE for it...\n",
    "import numpy as np\n",
    "x = np.array([1, 2, 3, 4,5 ])\n",
    "print(x)\n",
    "print(x.shape)\n",
    "y = np.array([4.9, 7.1, 9.3, 10.2, 13.5])\n",
    "print(y)\n",
    "print(y.shape)\n",
    "\n",
    "X = x.reshape(len(x),1)\n",
    "print(X.shape)\n",
    "print(y.shape)"
   ]
  },
  {
   "cell_type": "code",
   "execution_count": 67,
   "metadata": {},
   "outputs": [
    {
     "data": {
      "image/png": "[encoded data removed]",
      "text/plain": [
       "<Figure size 432x288 with 1 Axes>"
      ]
     },
     "metadata": {
      "needs_background": "light"
     },
     "output_type": "display_data"
    }
   ],
   "source": [
    "#before computations - let's plot the data\n",
    "\n",
    "%matplotlib inline\n",
    "#To set this up, before any plotting or import of matplotlib is performed \n",
    "#you must execute the %matplotlib magic command. \n",
    "#This performs the necessary behind-the-scenes setup for IPython \n",
    "#to work correctly hand in hand with matplotlib; it does not, however, \n",
    "#actually execute any Python import commands, that is, no names are added to the namespace.\n",
    "import numpy as np\n",
    "from ipywidgets import *\n",
    "from IPython.display import display, HTML, Markdown\n",
    "import pandas as pd\n",
    "import matplotlib.pyplot as plt\n",
    "\n",
    "\n",
    "\n",
    "plt.close()\n",
    "plt.scatter(x,y)\n",
    "\n",
    "plt.xlim([0,6])\n",
    "plt.ylim([0,15])\n",
    "plt.xlabel('x')\n",
    "plt.ylabel('y')\n",
    "plt.show()"
   ]
  },
  {
   "cell_type": "code",
   "execution_count": 68,
   "metadata": {},
   "outputs": [
    {
     "data": {
      "image/png": "[encoded data removed]",
      "text/plain": [
       "<Figure size 432x288 with 1 Axes>"
      ]
     },
     "metadata": {
      "needs_background": "light"
     },
     "output_type": "display_data"
    }
   ],
   "source": [
    "#It looks like the points make a line with slope equal about m=2 and y-intercept about b=3\n",
    "#Let's plot   y=3+2x  wiht the data points...\n",
    "b = 3\n",
    "m = 2\n",
    "\n",
    "plt.close()\n",
    "plt.scatter(x,y)\n",
    "plt.plot([0,6],[m*0 + b, m*6 + b], c='g')\n",
    "plt.xlim([0,6])\n",
    "plt.ylim([0,15])\n",
    "plt.xlabel('x')\n",
    "plt.ylabel('y')\n",
    "plt.show()\n"
   ]
  },
  {
   "cell_type": "markdown",
   "metadata": {},
   "source": [
    "Now spend some time computing  the SSE  and the score (called r_Squared)...    By hand!\n",
    "\n",
    "## Computing SSE\n",
    "* Let $b_0$ and $b_1$ be a pair of (not necessarily optimal) parameter values used to define a model $\\large \\hat{y} = {b}_0 + {b}_1 x$.\n",
    "* For each training observation $(x_i, y_i)$, let $\\large\\hat{y}_i = b_0 + b_1 x_i$. \n",
    "* For each $i$, calculate the error (residual) $\\large\\hat{e}_i = \\hat{y}_i - y_i$. \n",
    "* The goal of the algorithm is to find the parameter values that minimize the Sum of Squared Errors loss function, given by: $ \\large SSE = \\sum \\hat{e}_i^2 $\n",
    "\n",
    "## Computing r-Squared\n",
    "\n",
    "When working with linear regression, the optimal parameter values are determined by minimizing the objective function SSE. However, a different value is typically used to assess the quality of a regression model. This alternate scoring method is called the called the **r-squared value**. It is defined as follows:\n",
    "\n",
    "* $ \\large SST = \\sum (y_i - \\bar y ) ^2 $\n",
    "\n",
    "* $ \\large SSE = \\sum \\hat{e}_i^2 = \\sum (y_i - \\hat {y}_i ) ^2 $\n",
    "\n",
    "* $ \\large r^2 = 1 - \\frac{SSE}{SST}$\n",
    "\n",
    "Since SST is a constant for the supplied training data, minimizing SSE is equivalent to maximizing $r^2$. The score supplied by $r^2$ has two advantages over SSE:\n",
    "\n",
    "1. The value $r^2$ is \"normalized\" to always be between 0 and 1. A value close to 1 indicates that our model provides a very good fit for the data. \n",
    "2. The $r^2$ value has a useful interpretation not present with SSE. We can think of $r^2$ as reporting the proportion of the variance in the training labels that has been accounted for by our model. \n"
   ]
  },
  {
   "cell_type": "markdown",
   "metadata": {},
   "source": [
    "## SLR with Scikit-Learn\n",
    "\n",
    "Scikit-Learn is a library that contains implementations of many machine learning algorithms, as well as useful tools for evaluatting models, processing data, and generating synthetic data sets. We will use this package extensively in this class. \n",
    "\n",
    "In this lesson, we will illustrate how to use Scikit-Learn to construct linear regression models. "
   ]
  },
  {
   "cell_type": "code",
   "execution_count": 69,
   "metadata": {},
   "outputs": [
    {
     "name": "stdout",
     "output_type": "stream",
     "text": [
      "Intercept:   2.9099999999999984\n",
      "Slope: [2.03]\n",
      "r-Squared is  0.9765165876777251\n"
     ]
    }
   ],
   "source": [
    "#We will now use the `LinearRegression` class from Scikit-Learn to create the SLR model.\n",
    "from sklearn.linear_model import LinearRegression\n",
    "\n",
    "# We create an instance of the LinearRegression() class.\n",
    "# Then we call its fit() method. \n",
    "mod = LinearRegression()\n",
    "mod.fit(X,y)\n",
    "\n",
    "# We print the model parameters. \n",
    "print('Intercept:  ', mod.intercept_)\n",
    "print('Slope:', mod.coef_)\n",
    "\n",
    "# We compute the r_Squared \n",
    "print(\"r-Squared is \", mod.score(X,y))"
   ]
  },
  {
   "cell_type": "code",
   "execution_count": 70,
   "metadata": {},
   "outputs": [
    {
     "data": {
      "image/png": "[encoded data removed]",
      "text/plain": [
       "<Figure size 432x288 with 1 Axes>"
      ]
     },
     "metadata": {
      "needs_background": "light"
     },
     "output_type": "display_data"
    }
   ],
   "source": [
    "#Let's plot   y=b+m*3 with the model parameters we obtain from SKLEARN...\n",
    "plt.close()\n",
    "plt.scatter(x,y)\n",
    "\n",
    "b = mod.intercept_\n",
    "m = mod.coef_[0]\n",
    "plt.plot([0,6],[m*0 + b, m*6 + b], c='r')\n",
    "plt.xlim([0,6])\n",
    "plt.ylim([0,15])\n",
    "plt.xlabel('x')\n",
    "plt.ylabel('y')\n",
    "plt.show()"
   ]
  },
  {
   "cell_type": "code",
   "execution_count": 1,
   "metadata": {},
   "outputs": [
    {
     "data": {
      "application/vnd.jupyter.widget-view+json": {
       "model_id": "5c2f5acba1c34af0916e43084738ca05",
       "version_major": 2,
       "version_minor": 0
      },
      "text/plain": [
       "HBox(children=(VBox(children=(FloatSlider(value=2.0, continuous_update=False, layout=Layout(width='200px'), ma…"
      ]
     },
     "metadata": {},
     "output_type": "display_data"
    },
    {
     "data": {
      "text/plain": [
       "<Figure size 550x550 with 0 Axes>"
      ]
     },
     "metadata": {},
     "output_type": "display_data"
    }
   ],
   "source": [
    "# Playing with a Linear Regression using a Python snippet04.py \n",
    "\n",
    "\n",
    "#With this backend, the output of plotting commands is displayed inline \n",
    "#within frontends like the Jupyter notebook, directly below the code cell that produced it. \n",
    "#The resulting plots will then also be stored in the notebook document.\n",
    "%matplotlib inline\n",
    "%run -i snippets/snippet04.py"
   ]
  },
  {
   "cell_type": "code",
   "execution_count": 72,
   "metadata": {},
   "outputs": [
    {
     "name": "stdout",
     "output_type": "stream",
     "text": [
      "           x          y\n",
      "0   0.271574   6.386724\n",
      "1   1.658730   8.561736\n",
      "2   2.362137   9.456477\n",
      "3   2.926846   9.695954\n",
      "4   3.430756   9.104633\n",
      "5   4.482566  12.104478\n",
      "6   4.486176  11.420900\n",
      "7   4.740897   9.133291\n",
      "8   5.728787   9.438673\n",
      "9   6.889639  15.383075\n",
      "10  7.772462  13.766021\n",
      "11  8.102013  15.993152\n",
      "(12, 1)\n",
      "(12,)\n"
     ]
    }
   ],
   "source": [
    "### HERE WE GENERATE THE SAME DATA AS IN snippet04.py\n",
    "np.random.seed(163)\n",
    "x = np.random.uniform(low=0, high=10, size=12)\n",
    "x.sort()\n",
    "y = 5 + 1.4 * x + np.random.normal(loc=0, scale=2.5, size=12)\n",
    "print ( pd.DataFrame( {'x':x,  'y':y}))\n",
    "\n",
    "\n",
    "# The features (that is the data in x)  need to be stored in a 2D array or DataFrame\n",
    "# that's why we reshape the one-dimnesional vector x into a 2D array X\n",
    "X = x.reshape(12,1)\n",
    "print(X.shape)\n",
    "print(y.shape)"
   ]
  },
  {
   "cell_type": "code",
   "execution_count": 73,
   "metadata": {},
   "outputs": [
    {
     "name": "stdout",
     "output_type": "stream",
     "text": [
      "Intercept:   6.209338101745086\n",
      "Slope: [1.058284]\n"
     ]
    }
   ],
   "source": [
    "# We create an instance of the LinearRegression() class.\n",
    "# Then we call its fit() method. \n",
    "mod = LinearRegression()\n",
    "mod.fit(X,y)\n",
    "\n",
    "# We print the model parameters. \n",
    "print('Intercept:  ', mod.intercept_)\n",
    "print('Slope:', mod.coef_)"
   ]
  },
  {
   "cell_type": "markdown",
   "metadata": {},
   "source": [
    "We will plot the dataset, along with the line that represents the model. "
   ]
  },
  {
   "cell_type": "code",
   "execution_count": 74,
   "metadata": {},
   "outputs": [
    {
     "data": {
      "image/png": "[encoded data removed]",
      "text/plain": [
       "<Figure size 396x396 with 1 Axes>"
      ]
     },
     "metadata": {
      "needs_background": "light"
     },
     "output_type": "display_data"
    },
    {
     "name": "stdout",
     "output_type": "stream",
     "text": [
      "r-Squared is  0.7758984631440847\n"
     ]
    }
   ],
   "source": [
    "b = mod.intercept_\n",
    "m = mod.coef_[0]\n",
    "\n",
    "plt.close()\n",
    "plt.scatter(x,y)\n",
    "plt.plot([0,10],[m*0 + b, m*10 + b], c='r')\n",
    "plt.xlim([0,10])\n",
    "plt.ylim([0,25])\n",
    "plt.xlabel('x')\n",
    "plt.ylabel('y')\n",
    "plt.show()\n",
    "\n",
    "print(\"r-Squared is \", mod.score(X,y))"
   ]
  },
  {
   "cell_type": "markdown",
   "metadata": {},
   "source": [
    "## Generating Predictions\n",
    "\n",
    "Ever Scikit-Learn model comes equipped with a `predict` method that can be used to generate predictions. We will use this method to find the `y` values predicted for our model for `x=2`, `x=5`, and `x=8`. "
   ]
  },
  {
   "cell_type": "code",
   "execution_count": 75,
   "metadata": {},
   "outputs": [
    {
     "name": "stdout",
     "output_type": "stream",
     "text": [
      "(3,)\n"
     ]
    }
   ],
   "source": [
    "Xnew = np.array([2, 5, 8])\n",
    "print(Xnew.shape)"
   ]
  },
  {
   "cell_type": "markdown",
   "metadata": {},
   "source": [
    "The predict function requires a 2D array as input, so we will reshape `Xnew`. "
   ]
  },
  {
   "cell_type": "code",
   "execution_count": 76,
   "metadata": {},
   "outputs": [
    {
     "name": "stdout",
     "output_type": "stream",
     "text": [
      "(3, 1)\n"
     ]
    }
   ],
   "source": [
    "Xnew = Xnew.reshape((3,1))\n",
    "print(Xnew.shape)"
   ]
  },
  {
   "cell_type": "code",
   "execution_count": 77,
   "metadata": {},
   "outputs": [
    {
     "name": "stdout",
     "output_type": "stream",
     "text": [
      "[ 8.325907 11.500759 14.675612]\n"
     ]
    }
   ],
   "source": [
    "print(mod.predict(Xnew))"
   ]
  },
  {
   "cell_type": "markdown",
   "metadata": {},
   "source": [
    "## Computing SSE and r_Squared using the formulas\n",
    "\n",
    "We know that the parameter values were selected in order to minimize SSE for the given training data. Let's calculate the SSE for the model we have generated. This will require us to use the `predict` method built into our model. \n",
    "\n",
    "\n",
    "* For each training observation $(x_i, y_i)$, let $\\large\\hat{y}_i = b_0 + b_1 x_i$. \n",
    "* For each $i$, calculate the error (residual) $\\large\\hat{e}_i = \\hat{y}_i - y_i$. \n",
    "* The goal of the algorithm is to find the parameter values that minimize the Sum of Squared Errors loss function, given by: $ \\large SSE = \\sum \\hat{e}_i^2 $"
   ]
  },
  {
   "cell_type": "code",
   "execution_count": 78,
   "metadata": {},
   "outputs": [
    {
     "name": "stdout",
     "output_type": "stream",
     "text": [
      "Training SSE: 21.02398255445639\n"
     ]
    }
   ],
   "source": [
    "y_hat = mod.predict(X)\n",
    "residuals = y - y_hat\n",
    "\n",
    "SSE = np.sum(residuals**2)\n",
    "\n",
    "print('Training SSE:', SSE)"
   ]
  },
  {
   "cell_type": "markdown",
   "metadata": {},
   "source": [
    "## r-Squared\n",
    "\n",
    "When working with linear regression, the optimal parameter values are determined by minimizing the objective function SSE. However, a different value is typically used to assess the quality of a regression model. This alternate scoring method is called the called the **r-squared value**. It is defined as follows:\n",
    "\n",
    "* $ \\large SST = \\sum (y_i - \\bar y ) ^2 $\n",
    "\n",
    "* $ \\large SSE = \\sum \\hat{e}_i^2 = \\sum (y_i - \\hat {y}_i ) ^2 $\n",
    "\n",
    "* $ \\large r^2 = 1 - \\frac{SSE}{SST}$\n",
    "\n",
    "Since SST is a constant for the supplied training data, minimizing SSE is equivalent to maximizing $r^2$. The score supplied by $r^2$ has two advantages over SSE:\n",
    "\n",
    "1. The value $r^2$ is \"normalized\" to always be between 0 and 1. A value close to 1 indicates that our model provides a very good fit for the data. \n",
    "2. The $r^2$ value has a useful interpretation not present with SSE. We can think of $r^2$ as reporting the proportion of the variance in the training labels that has been accounted for by our model. \n",
    "\n",
    "We will now directly compute the $r^2$ value for our model. "
   ]
  },
  {
   "cell_type": "code",
   "execution_count": 79,
   "metadata": {},
   "outputs": [
    {
     "name": "stdout",
     "output_type": "stream",
     "text": [
      "0.7758984631440847\n"
     ]
    }
   ],
   "source": [
    "SST = np.sum((y - np.mean(y))**2)\n",
    "r2 = 1 - SSE / SST\n",
    "print(r2)"
   ]
  },
  {
   "cell_type": "markdown",
   "metadata": {},
   "source": [
    "\n",
    "## Scoring the Model directly\n",
    "Scikit-Learn `LinearRegression` objects do not have an `r_squared` attribute, but they do contain a method called `score` that can be used to calcuate $r^2$."
   ]
  },
  {
   "cell_type": "code",
   "execution_count": 80,
   "metadata": {
    "scrolled": false
   },
   "outputs": [
    {
     "name": "stdout",
     "output_type": "stream",
     "text": [
      "0.7758984631440847\n"
     ]
    }
   ],
   "source": [
    "print(mod.score(X,y))"
   ]
  },
  {
   "cell_type": "markdown",
   "metadata": {},
   "source": [
    "## Multiple Regression\n",
    "\n",
    "In a multiple linear regression task, we have several features, $X = [x^{(1)}, x^{(2)}, ..., x^{(p)}]$, from which we wish to predict a single continuous, real-valued label `y`.\n",
    "\n",
    "* Assume that our training set has $n$ observations.\n",
    "* Denote the values of the training features for observation number $i$ as $X_i = [x^{(1)}_i, x^{(2)}_i, ..., x^{(p)}_i]$.\n",
    "* Denote the value of the label for observation $i$ as $y_i$. \n",
    "* We assume that our model has the following form: $\\large \\hat{y} = \\hat{\\beta}_0 + \\hat{\\beta}_1 x^{(1)} + \\hat{\\beta}_2 x^{(2)} ... + \\hat{\\beta}_p x^{(p)}$.\n",
    "* In the model above, $\\hat{\\beta}_0$, $\\hat{\\beta}_1$, ..., $\\hat{\\beta}_p$ are model parameters that are learned from the training data. \n",
    "* $\\hat{y}$ represents the predicted value of $y$ given some input vector $X = [x^{(1)}, x^{(2)}, ..., x^{(p)}]$. \n",
    "\n",
    "### Training the Model\n",
    "\n",
    "* Let $b_0, b_1, ..., b_p$ be a set (not necessarily optimal) parameter values used to define a model $\\large \\hat{y} = {b}_0 + {b}_1 x^{(1)} + {b}_2 x^{(2)} + ... + {b}_p x^{(p)}$.\n",
    "* For each training observation $(x_i, y_i)$, let $\\large\\hat{y}_i = {b}_0 + {b}_1 x^{(1)}_i + {b}_2 x^{(2)}_i + ... + {b}_p x^{(p)}_i$.\n",
    "* For each $i$, calculate the error (residual) $\\large\\hat{e}_i = \\hat{y}_i - y_i$. \n",
    "* The goal of the algorithm is to find the parameter values that minimize the Sum of Squared Errors objective function, given by: $ \\large SSE = \\sum \\hat{e}_i^2 $\n",
    "* We will denote the optimal parameter values by $\\hat{\\beta}_0$, $\\hat{\\beta}_1$, ..., $\\hat{\\beta}_p$."
   ]
  },
  {
   "cell_type": "markdown",
   "metadata": {},
   "source": [
    "## Example with TWO independent variables \n",
    "\n",
    "We will generate a random dataset to illustrate how multiple regression works. "
   ]
  },
  {
   "cell_type": "code",
   "execution_count": 3,
   "metadata": {},
   "outputs": [
    {
     "data": {
      "text/html": [
       "<div>\n",
       "<style scoped>\n",
       "    .dataframe tbody tr th:only-of-type {\n",
       "        vertical-align: middle;\n",
       "    }\n",
       "\n",
       "    .dataframe tbody tr th {\n",
       "        vertical-align: top;\n",
       "    }\n",
       "\n",
       "    .dataframe thead th {\n",
       "        text-align: right;\n",
       "    }\n",
       "</style>\n",
       "<table border=\"1\" class=\"dataframe\">\n",
       "  <thead>\n",
       "    <tr style=\"text-align: right;\">\n",
       "      <th></th>\n",
       "      <th>x1</th>\n",
       "      <th>x2</th>\n",
       "      <th>y</th>\n",
       "    </tr>\n",
       "  </thead>\n",
       "  <tbody>\n",
       "    <tr>\n",
       "      <th>0</th>\n",
       "      <td>4.170220</td>\n",
       "      <td>9.501761</td>\n",
       "      <td>38.139430</td>\n",
       "    </tr>\n",
       "    <tr>\n",
       "      <th>1</th>\n",
       "      <td>7.203245</td>\n",
       "      <td>5.566532</td>\n",
       "      <td>30.126983</td>\n",
       "    </tr>\n",
       "    <tr>\n",
       "      <th>2</th>\n",
       "      <td>0.001144</td>\n",
       "      <td>9.156063</td>\n",
       "      <td>27.714854</td>\n",
       "    </tr>\n",
       "    <tr>\n",
       "      <th>3</th>\n",
       "      <td>3.023326</td>\n",
       "      <td>6.415662</td>\n",
       "      <td>24.366173</td>\n",
       "    </tr>\n",
       "    <tr>\n",
       "      <th>4</th>\n",
       "      <td>1.467559</td>\n",
       "      <td>3.900077</td>\n",
       "      <td>18.250087</td>\n",
       "    </tr>\n",
       "    <tr>\n",
       "      <th>5</th>\n",
       "      <td>0.923386</td>\n",
       "      <td>4.859907</td>\n",
       "      <td>17.958359</td>\n",
       "    </tr>\n",
       "    <tr>\n",
       "      <th>6</th>\n",
       "      <td>1.862602</td>\n",
       "      <td>6.043105</td>\n",
       "      <td>25.377172</td>\n",
       "    </tr>\n",
       "    <tr>\n",
       "      <th>7</th>\n",
       "      <td>3.455607</td>\n",
       "      <td>5.495479</td>\n",
       "      <td>22.752695</td>\n",
       "    </tr>\n",
       "    <tr>\n",
       "      <th>8</th>\n",
       "      <td>3.967675</td>\n",
       "      <td>9.261814</td>\n",
       "      <td>37.175761</td>\n",
       "    </tr>\n",
       "    <tr>\n",
       "      <th>9</th>\n",
       "      <td>5.388167</td>\n",
       "      <td>9.187334</td>\n",
       "      <td>39.841319</td>\n",
       "    </tr>\n",
       "    <tr>\n",
       "      <th>10</th>\n",
       "      <td>4.191945</td>\n",
       "      <td>3.948756</td>\n",
       "      <td>20.203897</td>\n",
       "    </tr>\n",
       "    <tr>\n",
       "      <th>11</th>\n",
       "      <td>6.852195</td>\n",
       "      <td>9.632625</td>\n",
       "      <td>43.567475</td>\n",
       "    </tr>\n",
       "  </tbody>\n",
       "</table>\n",
       "</div>"
      ],
      "text/plain": [
       "          x1        x2          y\n",
       "0   4.170220  9.501761  38.139430\n",
       "1   7.203245  5.566532  30.126983\n",
       "2   0.001144  9.156063  27.714854\n",
       "3   3.023326  6.415662  24.366173\n",
       "4   1.467559  3.900077  18.250087\n",
       "5   0.923386  4.859907  17.958359\n",
       "6   1.862602  6.043105  25.377172\n",
       "7   3.455607  5.495479  22.752695\n",
       "8   3.967675  9.261814  37.175761\n",
       "9   5.388167  9.187334  39.841319\n",
       "10  4.191945  3.948756  20.203897\n",
       "11  6.852195  9.632625  43.567475"
      ]
     },
     "execution_count": 3,
     "metadata": {},
     "output_type": "execute_result"
    }
   ],
   "source": [
    "np.random.seed(1)\n",
    "\n",
    "n = 200\n",
    "x1 = np.random.uniform(0, 10, n)\n",
    "x2 = np.random.uniform(0, 10, n)\n",
    "y = 7 + 1.3 * x1 + 2.5 * x2 + np.random.normal(0, 3, n)\n",
    "\n",
    "df = pd.DataFrame({'x1':x1, 'x2':x2, 'y':y})\n",
    "\n",
    "df.head(12)"
   ]
  },
  {
   "cell_type": "markdown",
   "metadata": {},
   "source": [
    "We can use the `LinearRegression` class from Scikit-Learn to create multiple regression models."
   ]
  },
  {
   "cell_type": "code",
   "execution_count": 82,
   "metadata": {},
   "outputs": [
    {
     "name": "stdout",
     "output_type": "stream",
     "text": [
      "(200, 2)\n",
      "\n",
      "Model intercept: 6.536812277597999\n",
      "\n",
      "Model coefficients: [1.377376 2.506059]\n",
      "\n",
      "r-Squared: 0.8721337623707668\n",
      "the y value for x1=4 and x2=9  is =  [34.600849]\n"
     ]
    }
   ],
   "source": [
    "X = np.hstack([x1.reshape(n,1), x2.reshape(n,1)])\n",
    "\n",
    "print(X.shape)\n",
    "\n",
    "mlr = LinearRegression()\n",
    "mlr.fit(X,y)\n",
    "\n",
    "print('\\nModel intercept:', mlr.intercept_)\n",
    "print('\\nModel coefficients:', mlr.coef_)\n",
    "print('\\nr-Squared:', mlr.score(X,y))\n",
    "\n",
    "Xnew = np.array([4, 9])\n",
    "Xnew = Xnew.reshape((1,2))\n",
    "print(\"the y value for x1=4 and x2=9  is = \", mlr.predict(Xnew))\n"
   ]
  },
  {
   "cell_type": "markdown",
   "metadata": {},
   "source": [
    "## Example: Predicting Median Home Value\n",
    "\n",
    "In this example, we will be working with the \"Boston Housing\" dataset. This dataset contains data for 506 census tracts of Boston from the 1970 census. \n",
    "\n",
    "The dataset contains the following 19 pieces of information for each census tract:\n",
    "* **`town`** - name of town\n",
    "* **`tract`** - census tract\n",
    "* **`lon`** - longitude of census tract\n",
    "* **`lat`** - latitude of census tract \n",
    "* **`medv`** - median value of owner-occupied homes in USD 1000's\n",
    "* **`cmedv`** - corrected median value of owner-occupied homes in USD 1000's\n",
    "* **`crim`** - per capita crime rate by town\n",
    "* **`zn`** - proportion of residential land zoned for lots over 25,000 sq.ft\n",
    "* **`indus`** - proportion of non-retail business acres per town\n",
    "* **`chas`** - Charles River dummy variable (= 1 if tract bounds river; 0 otherwise)\n",
    "* **`nox`** - nitric oxides concentration (parts per 10 million)\n",
    "* **`rm`** - average number of rooms per dwelling\n",
    "* **`age`** - proportion of owner-occupied units built prior to 1940\n",
    "* **`dis`** - weighted distances to five Boston employment centres\n",
    "* **`rad`** - index of accessibility to radial highways\n",
    "* **`tax`** - full-value property-tax rate per USD 10,000\n",
    "* **`ptratio`** - pupil-teacher ratio by town\n",
    "* **`b`** - 1000(B - 0.63)^2 where B is the proportion of blacks by town\n",
    "* **`lstat`** - percentage of lower status of the population\n",
    "\n",
    "We will start by importing the dataset from a text file, and then viewing the first 10 rows."
   ]
  },
  {
   "cell_type": "code",
   "execution_count": 83,
   "metadata": {
    "scrolled": true
   },
   "outputs": [
    {
     "data": {
      "text/html": [
       "<div>\n",
       "<style scoped>\n",
       "    .dataframe tbody tr th:only-of-type {\n",
       "        vertical-align: middle;\n",
       "    }\n",
       "\n",
       "    .dataframe tbody tr th {\n",
       "        vertical-align: top;\n",
       "    }\n",
       "\n",
       "    .dataframe thead th {\n",
       "        text-align: right;\n",
       "    }\n",
       "</style>\n",
       "<table border=\"1\" class=\"dataframe\">\n",
       "  <thead>\n",
       "    <tr style=\"text-align: right;\">\n",
       "      <th></th>\n",
       "      <th>town</th>\n",
       "      <th>tract</th>\n",
       "      <th>lon</th>\n",
       "      <th>lat</th>\n",
       "      <th>medv</th>\n",
       "      <th>cmedv</th>\n",
       "      <th>crim</th>\n",
       "      <th>zn</th>\n",
       "      <th>indus</th>\n",
       "      <th>chas</th>\n",
       "      <th>nox</th>\n",
       "      <th>rm</th>\n",
       "      <th>age</th>\n",
       "      <th>dis</th>\n",
       "      <th>rad</th>\n",
       "      <th>tax</th>\n",
       "      <th>ptratio</th>\n",
       "      <th>b</th>\n",
       "      <th>lstat</th>\n",
       "    </tr>\n",
       "  </thead>\n",
       "  <tbody>\n",
       "    <tr>\n",
       "      <th>0</th>\n",
       "      <td>Nahant</td>\n",
       "      <td>2011</td>\n",
       "      <td>-70.955</td>\n",
       "      <td>42.2550</td>\n",
       "      <td>24.0</td>\n",
       "      <td>24.0</td>\n",
       "      <td>0.00632</td>\n",
       "      <td>18.0</td>\n",
       "      <td>2.31</td>\n",
       "      <td>0</td>\n",
       "      <td>0.538</td>\n",
       "      <td>6.575</td>\n",
       "      <td>65.2</td>\n",
       "      <td>4.0900</td>\n",
       "      <td>1</td>\n",
       "      <td>296</td>\n",
       "      <td>15.3</td>\n",
       "      <td>396.90</td>\n",
       "      <td>4.98</td>\n",
       "    </tr>\n",
       "    <tr>\n",
       "      <th>1</th>\n",
       "      <td>Swampscott</td>\n",
       "      <td>2021</td>\n",
       "      <td>-70.950</td>\n",
       "      <td>42.2875</td>\n",
       "      <td>21.6</td>\n",
       "      <td>21.6</td>\n",
       "      <td>0.02731</td>\n",
       "      <td>0.0</td>\n",
       "      <td>7.07</td>\n",
       "      <td>0</td>\n",
       "      <td>0.469</td>\n",
       "      <td>6.421</td>\n",
       "      <td>78.9</td>\n",
       "      <td>4.9671</td>\n",
       "      <td>2</td>\n",
       "      <td>242</td>\n",
       "      <td>17.8</td>\n",
       "      <td>396.90</td>\n",
       "      <td>9.14</td>\n",
       "    </tr>\n",
       "    <tr>\n",
       "      <th>2</th>\n",
       "      <td>Swampscott</td>\n",
       "      <td>2022</td>\n",
       "      <td>-70.936</td>\n",
       "      <td>42.2830</td>\n",
       "      <td>34.7</td>\n",
       "      <td>34.7</td>\n",
       "      <td>0.02729</td>\n",
       "      <td>0.0</td>\n",
       "      <td>7.07</td>\n",
       "      <td>0</td>\n",
       "      <td>0.469</td>\n",
       "      <td>7.185</td>\n",
       "      <td>61.1</td>\n",
       "      <td>4.9671</td>\n",
       "      <td>2</td>\n",
       "      <td>242</td>\n",
       "      <td>17.8</td>\n",
       "      <td>392.83</td>\n",
       "      <td>4.03</td>\n",
       "    </tr>\n",
       "    <tr>\n",
       "      <th>3</th>\n",
       "      <td>Marblehead</td>\n",
       "      <td>2031</td>\n",
       "      <td>-70.928</td>\n",
       "      <td>42.2930</td>\n",
       "      <td>33.4</td>\n",
       "      <td>33.4</td>\n",
       "      <td>0.03237</td>\n",
       "      <td>0.0</td>\n",
       "      <td>2.18</td>\n",
       "      <td>0</td>\n",
       "      <td>0.458</td>\n",
       "      <td>6.998</td>\n",
       "      <td>45.8</td>\n",
       "      <td>6.0622</td>\n",
       "      <td>3</td>\n",
       "      <td>222</td>\n",
       "      <td>18.7</td>\n",
       "      <td>394.63</td>\n",
       "      <td>2.94</td>\n",
       "    </tr>\n",
       "    <tr>\n",
       "      <th>4</th>\n",
       "      <td>Marblehead</td>\n",
       "      <td>2032</td>\n",
       "      <td>-70.922</td>\n",
       "      <td>42.2980</td>\n",
       "      <td>36.2</td>\n",
       "      <td>36.2</td>\n",
       "      <td>0.06905</td>\n",
       "      <td>0.0</td>\n",
       "      <td>2.18</td>\n",
       "      <td>0</td>\n",
       "      <td>0.458</td>\n",
       "      <td>7.147</td>\n",
       "      <td>54.2</td>\n",
       "      <td>6.0622</td>\n",
       "      <td>3</td>\n",
       "      <td>222</td>\n",
       "      <td>18.7</td>\n",
       "      <td>396.90</td>\n",
       "      <td>5.33</td>\n",
       "    </tr>\n",
       "  </tbody>\n",
       "</table>\n",
       "</div>"
      ],
      "text/plain": [
       "         town  tract     lon      lat  medv  cmedv     crim    zn  indus  \\\n",
       "0      Nahant   2011 -70.955  42.2550  24.0   24.0  0.00632  18.0   2.31   \n",
       "1  Swampscott   2021 -70.950  42.2875  21.6   21.6  0.02731   0.0   7.07   \n",
       "2  Swampscott   2022 -70.936  42.2830  34.7   34.7  0.02729   0.0   7.07   \n",
       "3  Marblehead   2031 -70.928  42.2930  33.4   33.4  0.03237   0.0   2.18   \n",
       "4  Marblehead   2032 -70.922  42.2980  36.2   36.2  0.06905   0.0   2.18   \n",
       "\n",
       "   chas    nox     rm   age     dis  rad  tax  ptratio       b  lstat  \n",
       "0     0  0.538  6.575  65.2  4.0900    1  296     15.3  396.90   4.98  \n",
       "1     0  0.469  6.421  78.9  4.9671    2  242     17.8  396.90   9.14  \n",
       "2     0  0.469  7.185  61.1  4.9671    2  242     17.8  392.83   4.03  \n",
       "3     0  0.458  6.998  45.8  6.0622    3  222     18.7  394.63   2.94  \n",
       "4     0  0.458  7.147  54.2  6.0622    3  222     18.7  396.90   5.33  "
      ]
     },
     "execution_count": 83,
     "metadata": {},
     "output_type": "execute_result"
    }
   ],
   "source": [
    "df = pd.read_csv('data/BostonHousingV2.txt', sep='\\t')\n",
    "df.head(5)"
   ]
  },
  {
   "cell_type": "markdown",
   "metadata": {},
   "source": [
    "Let's check the dimensions of the DataFrame."
   ]
  },
  {
   "cell_type": "code",
   "execution_count": 84,
   "metadata": {},
   "outputs": [
    {
     "name": "stdout",
     "output_type": "stream",
     "text": [
      "(506, 19)\n",
      "         town  tract     lon      lat  medv  cmedv     crim    zn  indus  \\\n",
      "0      Nahant   2011 -70.955  42.2550  24.0   24.0  0.00632  18.0   2.31   \n",
      "1  Swampscott   2021 -70.950  42.2875  21.6   21.6  0.02731   0.0   7.07   \n",
      "2  Swampscott   2022 -70.936  42.2830  34.7   34.7  0.02729   0.0   7.07   \n",
      "3  Marblehead   2031 -70.928  42.2930  33.4   33.4  0.03237   0.0   2.18   \n",
      "4  Marblehead   2032 -70.922  42.2980  36.2   36.2  0.06905   0.0   2.18   \n",
      "\n",
      "   chas    nox     rm   age     dis  rad  tax  ptratio       b  lstat  \n",
      "0     0  0.538  6.575  65.2  4.0900    1  296     15.3  396.90   4.98  \n",
      "1     0  0.469  6.421  78.9  4.9671    2  242     17.8  396.90   9.14  \n",
      "2     0  0.469  7.185  61.1  4.9671    2  242     17.8  392.83   4.03  \n",
      "3     0  0.458  6.998  45.8  6.0622    3  222     18.7  394.63   2.94  \n",
      "4     0  0.458  7.147  54.2  6.0622    3  222     18.7  396.90   5.33  \n"
     ]
    }
   ],
   "source": [
    "print(df.shape)\n",
    "print(df.head(5))"
   ]
  },
  {
   "cell_type": "markdown",
   "metadata": {},
   "source": [
    "We will use this dataset for a regression task in which we will attempt to predict the label `cmedv` using the last 13 columns as features. We will now prepare our feature and label arrays. "
   ]
  },
  {
   "cell_type": "code",
   "execution_count": 85,
   "metadata": {},
   "outputs": [
    {
     "name": "stdout",
     "output_type": "stream",
     "text": [
      "(506, 13)\n",
      "(506,)\n"
     ]
    }
   ],
   "source": [
    "X = df.iloc[:,6:].values\n",
    "y = df.iloc[:,5].values\n",
    "\n",
    "print(X.shape)\n",
    "print(y.shape)"
   ]
  },
  {
   "cell_type": "markdown",
   "metadata": {},
   "source": [
    "In order to measure how well our model generalizes to new data, we will create a train/test split of our data."
   ]
  },
  {
   "cell_type": "code",
   "execution_count": 86,
   "metadata": {},
   "outputs": [
    {
     "name": "stdout",
     "output_type": "stream",
     "text": [
      "(404, 13)\n",
      "(102, 13)\n"
     ]
    }
   ],
   "source": [
    "from sklearn.model_selection import train_test_split\n",
    "\n",
    "X_train, X_test, y_train, y_test = train_test_split(X, y, test_size=0.2, random_state=1)\n",
    "\n",
    "print(X_train.shape)\n",
    "print(X_test.shape)"
   ]
  },
  {
   "cell_type": "markdown",
   "metadata": {},
   "source": [
    "We will now use the `LinearRegression` class to create our model. We will use the `score` method of our trained model to calculate the r-Squared value on our training set, as well as on our test set. "
   ]
  },
  {
   "cell_type": "code",
   "execution_count": 87,
   "metadata": {},
   "outputs": [
    {
     "name": "stdout",
     "output_type": "stream",
     "text": [
      "Training r-Squared: 0.7341832055169144\n",
      "Testing r-Squared:  0.763957915736643\n"
     ]
    }
   ],
   "source": [
    "model = LinearRegression()\n",
    "model.fit(X_train, y_train)\n",
    "\n",
    "print(\"Training r-Squared:\", model.score(X_train, y_train))\n",
    "print(\"Testing r-Squared: \", model.score(X_test, y_test))"
   ]
  },
  {
   "cell_type": "markdown",
   "metadata": {},
   "source": [
    "The model object has attributes containing the optimal parameter values that define our model."
   ]
  },
  {
   "cell_type": "code",
   "execution_count": 88,
   "metadata": {},
   "outputs": [
    {
     "name": "stdout",
     "output_type": "stream",
     "text": [
      "42.76113154507837\n",
      "[ -0.110315   0.06       0.021576   2.134697 -19.522247   3.075544\n",
      "   0.004304  -1.536018   0.303108  -0.011639  -0.950799   0.0072\n",
      "  -0.551868]\n"
     ]
    }
   ],
   "source": [
    "np.set_printoptions(precision=6, suppress=True)\n",
    "\n",
    "print(model.intercept_)\n",
    "print(model.coef_)\n",
    "\n"
   ]
  },
  {
   "cell_type": "markdown",
   "metadata": {},
   "source": [
    "## Using a Subset of the Available Features\n",
    "\n",
    "It is often undesireable to use all features that are potentially available to you in a supervised learning task. A few reasons why you might want to consider using a subset of the available features are:\n",
    "\n",
    "* Using too many features could result in over-fitting. \n",
    "* Some features might not be relevant.\n",
    "* Some features might be redundant. \n",
    "* Having too many features can have a negative impact on the interpretability of your model. \n",
    "* It might be expensive or time-consuming to collect values for certain features. \n",
    "\n",
    "Let train a second MLR model on this data, but this time using only the features `rm`, `ptratio`, and `lstat`. "
   ]
  },
  {
   "cell_type": "code",
   "execution_count": 89,
   "metadata": {},
   "outputs": [
    {
     "data": {
      "text/html": [
       "<div>\n",
       "<style scoped>\n",
       "    .dataframe tbody tr th:only-of-type {\n",
       "        vertical-align: middle;\n",
       "    }\n",
       "\n",
       "    .dataframe tbody tr th {\n",
       "        vertical-align: top;\n",
       "    }\n",
       "\n",
       "    .dataframe thead th {\n",
       "        text-align: right;\n",
       "    }\n",
       "</style>\n",
       "<table border=\"1\" class=\"dataframe\">\n",
       "  <thead>\n",
       "    <tr style=\"text-align: right;\">\n",
       "      <th></th>\n",
       "      <th>rm</th>\n",
       "      <th>ptratio</th>\n",
       "      <th>lstat</th>\n",
       "    </tr>\n",
       "  </thead>\n",
       "  <tbody>\n",
       "    <tr>\n",
       "      <th>0</th>\n",
       "      <td>6.575</td>\n",
       "      <td>15.3</td>\n",
       "      <td>4.98</td>\n",
       "    </tr>\n",
       "    <tr>\n",
       "      <th>1</th>\n",
       "      <td>6.421</td>\n",
       "      <td>17.8</td>\n",
       "      <td>9.14</td>\n",
       "    </tr>\n",
       "    <tr>\n",
       "      <th>2</th>\n",
       "      <td>7.185</td>\n",
       "      <td>17.8</td>\n",
       "      <td>4.03</td>\n",
       "    </tr>\n",
       "    <tr>\n",
       "      <th>3</th>\n",
       "      <td>6.998</td>\n",
       "      <td>18.7</td>\n",
       "      <td>2.94</td>\n",
       "    </tr>\n",
       "    <tr>\n",
       "      <th>4</th>\n",
       "      <td>7.147</td>\n",
       "      <td>18.7</td>\n",
       "      <td>5.33</td>\n",
       "    </tr>\n",
       "  </tbody>\n",
       "</table>\n",
       "</div>"
      ],
      "text/plain": [
       "      rm  ptratio  lstat\n",
       "0  6.575     15.3   4.98\n",
       "1  6.421     17.8   9.14\n",
       "2  7.185     17.8   4.03\n",
       "3  6.998     18.7   2.94\n",
       "4  7.147     18.7   5.33"
      ]
     },
     "execution_count": 89,
     "metadata": {},
     "output_type": "execute_result"
    }
   ],
   "source": [
    "df.iloc[:, [11,16,18]].head()"
   ]
  },
  {
   "cell_type": "code",
   "execution_count": 90,
   "metadata": {},
   "outputs": [
    {
     "name": "stdout",
     "output_type": "stream",
     "text": [
      "(506, 3)\n"
     ]
    }
   ],
   "source": [
    "Xs = df.iloc[:,[11,16,18]].values\n",
    "\n",
    "print(Xs.shape)"
   ]
  },
  {
   "cell_type": "code",
   "execution_count": 91,
   "metadata": {},
   "outputs": [],
   "source": [
    "Xs_train, Xs_test, y_train, y_test = train_test_split(Xs, y, test_size=0.2, random_state=1)"
   ]
  },
  {
   "cell_type": "code",
   "execution_count": 92,
   "metadata": {},
   "outputs": [
    {
     "name": "stdout",
     "output_type": "stream",
     "text": [
      "Training r-Squared: 0.6739085856095928\n",
      "Testing r-Squared:  0.6958714532115466\n"
     ]
    }
   ],
   "source": [
    "model_s = LinearRegression()\n",
    "model_s.fit(Xs_train, y_train)\n",
    "\n",
    "print(\"Training r-Squared:\", model_s.score(Xs_train, y_train))\n",
    "print(\"Testing r-Squared: \", model_s.score(Xs_test, y_test))"
   ]
  },
  {
   "cell_type": "markdown",
   "metadata": {},
   "source": [
    "Note that both r-Squared values are LOWER than those computed previously (when we used the last 13 columns).  Since the Testing r-squared value given above is LOWER than the Testing r-squared value with 13 columns - we will keep the former model..."
   ]
  },
  {
   "cell_type": "code",
   "execution_count": 93,
   "metadata": {},
   "outputs": [
    {
     "name": "stdout",
     "output_type": "stream",
     "text": [
      "23.927244156450747\n",
      "[ 3.795969 -0.952999 -0.597414]\n"
     ]
    }
   ],
   "source": [
    "print(model_s.intercept_)\n",
    "print(model_s.coef_)"
   ]
  }
 ],
 "metadata": {
  "kernelspec": {
   "display_name": "Python 3 (ipykernel)",
   "language": "python",
   "name": "python3"
  },
  "language_info": {
   "codemirror_mode": {
    "name": "ipython",
    "version": 3
   },
   "file_extension": ".py",
   "mimetype": "text/x-python",
   "name": "python",
   "nbconvert_exporter": "python",
   "pygments_lexer": "ipython3",
   "version": "3.9.13"
  }
 },
 "nbformat": 4,
 "nbformat_minor": 2
}
