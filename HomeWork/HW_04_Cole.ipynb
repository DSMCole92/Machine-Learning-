{
 "cells": [
  {
   "cell_type": "markdown",
   "metadata": {},
   "source": [
    "## Homework 04 \n",
    "\n",
    "**Lance Cole**\n",
    "\n",
    "**DSCI 35600 - Machine Learning**"
   ]
  },
  {
   "cell_type": "markdown",
   "metadata": {},
   "source": [
    "## Description of Assignment\n",
    "\n",
    "In this problem, you will be asked to create a linear regression model for the purposes of predicting the fuel efficiency of a vehicle based on certain characteristics of the vehicle. "
   ]
  },
  {
   "cell_type": "markdown",
   "metadata": {},
   "source": [
    "## Load Packages\n",
    "\n",
    "In the cell below, please load `numpy`, `pandas`, and the `pyplot` module of `matplotlib`. Import each of these items using their typical aliases. Also import the `LinearRegression` class and the `train_test_split` function from `sklearn`. "
   ]
  },
  {
   "cell_type": "code",
   "execution_count": 1,
   "metadata": {},
   "outputs": [],
   "source": [
    "import numpy as np\n",
    "import pandas as pd\n",
    "import matplotlib.pyplot as plt\n",
    "from sklearn.model_selection import train_test_split\n",
    "from sklearn.linear_model import LinearRegression"
   ]
  },
  {
   "cell_type": "markdown",
   "metadata": {},
   "source": [
    "## Load the Dataset\n",
    "\n",
    "The data for this assignment is stored in the tab-separated file `auto_mpg.txt`. Use `pandas` to load this into a DataFrame called `df`. Use the `head` method to display the first 10 rows of this DataFrame. "
   ]
  },
  {
   "cell_type": "code",
   "execution_count": 2,
   "metadata": {},
   "outputs": [
    {
     "data": {
      "text/html": [
       "<div>\n",
       "<style scoped>\n",
       "    .dataframe tbody tr th:only-of-type {\n",
       "        vertical-align: middle;\n",
       "    }\n",
       "\n",
       "    .dataframe tbody tr th {\n",
       "        vertical-align: top;\n",
       "    }\n",
       "\n",
       "    .dataframe thead th {\n",
       "        text-align: right;\n",
       "    }\n",
       "</style>\n",
       "<table border=\"1\" class=\"dataframe\">\n",
       "  <thead>\n",
       "    <tr style=\"text-align: right;\">\n",
       "      <th></th>\n",
       "      <th>mpg</th>\n",
       "      <th>cyl</th>\n",
       "      <th>wt</th>\n",
       "      <th>region</th>\n",
       "      <th>model</th>\n",
       "    </tr>\n",
       "  </thead>\n",
       "  <tbody>\n",
       "    <tr>\n",
       "      <th>0</th>\n",
       "      <td>27.2</td>\n",
       "      <td>4</td>\n",
       "      <td>3190</td>\n",
       "      <td>eur</td>\n",
       "      <td>peugeot 504</td>\n",
       "    </tr>\n",
       "    <tr>\n",
       "      <th>1</th>\n",
       "      <td>32.8</td>\n",
       "      <td>4</td>\n",
       "      <td>1985</td>\n",
       "      <td>asia</td>\n",
       "      <td>mazda glc deluxe</td>\n",
       "    </tr>\n",
       "    <tr>\n",
       "      <th>2</th>\n",
       "      <td>18.1</td>\n",
       "      <td>6</td>\n",
       "      <td>3410</td>\n",
       "      <td>usa</td>\n",
       "      <td>amc concord d/l</td>\n",
       "    </tr>\n",
       "    <tr>\n",
       "      <th>3</th>\n",
       "      <td>17.5</td>\n",
       "      <td>8</td>\n",
       "      <td>4080</td>\n",
       "      <td>usa</td>\n",
       "      <td>dodge magnum xe</td>\n",
       "    </tr>\n",
       "    <tr>\n",
       "      <th>4</th>\n",
       "      <td>25.4</td>\n",
       "      <td>5</td>\n",
       "      <td>3530</td>\n",
       "      <td>eur</td>\n",
       "      <td>mercedes benz 300d</td>\n",
       "    </tr>\n",
       "    <tr>\n",
       "      <th>5</th>\n",
       "      <td>31.0</td>\n",
       "      <td>4</td>\n",
       "      <td>1773</td>\n",
       "      <td>asia</td>\n",
       "      <td>toyota corolla 1200</td>\n",
       "    </tr>\n",
       "    <tr>\n",
       "      <th>6</th>\n",
       "      <td>27.4</td>\n",
       "      <td>4</td>\n",
       "      <td>2670</td>\n",
       "      <td>usa</td>\n",
       "      <td>amc spirit dl</td>\n",
       "    </tr>\n",
       "    <tr>\n",
       "      <th>7</th>\n",
       "      <td>39.1</td>\n",
       "      <td>4</td>\n",
       "      <td>1755</td>\n",
       "      <td>asia</td>\n",
       "      <td>toyota starlet</td>\n",
       "    </tr>\n",
       "    <tr>\n",
       "      <th>8</th>\n",
       "      <td>34.3</td>\n",
       "      <td>4</td>\n",
       "      <td>2188</td>\n",
       "      <td>eur</td>\n",
       "      <td>audi 4000</td>\n",
       "    </tr>\n",
       "    <tr>\n",
       "      <th>9</th>\n",
       "      <td>30.0</td>\n",
       "      <td>4</td>\n",
       "      <td>2155</td>\n",
       "      <td>usa</td>\n",
       "      <td>buick opel isuzu deluxe</td>\n",
       "    </tr>\n",
       "  </tbody>\n",
       "</table>\n",
       "</div>"
      ],
      "text/plain": [
       "    mpg  cyl    wt region                    model\n",
       "0  27.2    4  3190    eur              peugeot 504\n",
       "1  32.8    4  1985   asia         mazda glc deluxe\n",
       "2  18.1    6  3410    usa          amc concord d/l\n",
       "3  17.5    8  4080    usa          dodge magnum xe\n",
       "4  25.4    5  3530    eur       mercedes benz 300d\n",
       "5  31.0    4  1773   asia      toyota corolla 1200\n",
       "6  27.4    4  2670    usa            amc spirit dl\n",
       "7  39.1    4  1755   asia           toyota starlet\n",
       "8  34.3    4  2188    eur                audi 4000\n",
       "9  30.0    4  2155    usa  buick opel isuzu deluxe"
      ]
     },
     "execution_count": 2,
     "metadata": {},
     "output_type": "execute_result"
    }
   ],
   "source": [
    "df = pd.read_csv('auto_mpg.txt', sep = '\\t')\n",
    "df.head(10)"
   ]
  },
  {
   "cell_type": "markdown",
   "metadata": {},
   "source": [
    "This DataFrame contains information about 398 models of cars manufactured in the 70s and early 80s. For each model, we have the following 5 pieces of information:\n",
    "\n",
    "* `mpg` - Fuel efficiency in miles per gallon.\n",
    "* `cyl` - Number of cylinders in the engine (3, 4, 5, 6, or 8).\n",
    "* `wt` - Weight of the vehicle in pounds.\n",
    "* `region` - Region where the vehicle was manufactured. (USA, Europe, or Asia)\n",
    "* `model` - Name of the vehicle model.\n",
    "\n",
    "We will be using `mpg` as the target variable in our model, and `cyl`, `wt`, and `region` will be used as features. Note that even though `cyl` can be intepreted numerically, it will make more sense to think of it as a categorical feature. "
   ]
  },
  {
   "cell_type": "markdown",
   "metadata": {},
   "source": [
    "## Preprocessing: Creating Feature and Label Arrays\n",
    "\n",
    "In the cell below, create three arrays `X_num`, `X_cat`, and `y` by selecting columns of the DataFrame `df` as follows:\n",
    "* `X_num` should be a 2D array that contains a single column storing the numerical feature `wt`. \n",
    "* `X_cat` should be a 2D array that contains the categorical features `cyl` and `region`. \n",
    "* `y` should be a 1D array that contains the `mpg` for each observation. \n",
    "\n",
    "Print the shape of each of these arrays. "
   ]
  },
  {
   "cell_type": "code",
   "execution_count": 3,
   "metadata": {},
   "outputs": [
    {
     "name": "stdout",
     "output_type": "stream",
     "text": [
      "(398, 1)\n",
      "(398, 2)\n",
      "(398,)\n"
     ]
    }
   ],
   "source": [
    "X_num = df.iloc[:, [2]].values\n",
    "X_cat = df.iloc[:, [1, 3]].values\n",
    "y = df.iloc[:, 0].values\n",
    "\n",
    "print(X_num.shape)\n",
    "print(X_cat.shape)\n",
    "print(y.shape)"
   ]
  },
  {
   "cell_type": "markdown",
   "metadata": {},
   "source": [
    "## Preprocessing: Applying Log Transformation to the Label\n",
    "\n",
    "The cell below creates two scatter plots: One of MPG plotted against the weight of the vehicle, and one of the natural log of MPG plotted against the weight of the vehicle. Run this cell as-is."
   ]
  },
  {
   "cell_type": "code",
   "execution_count": 4,
   "metadata": {
    "scrolled": true
   },
   "outputs": [
    {
     "data": {
      "image/png": "[encoded data removed]",
      "text/plain": [
       "<Figure size 1000x400 with 2 Axes>"
      ]
     },
     "metadata": {},
     "output_type": "display_data"
    }
   ],
   "source": [
    "plt.figure(figsize=(10,4))\n",
    "plt.subplot(1,2,1)\n",
    "plt.scatter(df.iloc[:,2], y)\n",
    "plt.xlabel('Weight')\n",
    "plt.ylabel('MPG')\n",
    "plt.subplot(1,2,2)\n",
    "plt.scatter(df.iloc[:,2], np.log(y))\n",
    "plt.xlabel('Weight')\n",
    "plt.ylabel('ln(MPG)')\n",
    "plt.show()"
   ]
  },
  {
   "cell_type": "markdown",
   "metadata": {},
   "source": [
    "The relationship in the plot on the right appears to be more linear than the plot on the left. As a result, we will use `ln(MPG)` as our target variable rather than `MPG`. Use the `np.log()` method to take the natural logarithm of `y`. Store the results in a variable called `lny`. "
   ]
  },
  {
   "cell_type": "code",
   "execution_count": 5,
   "metadata": {},
   "outputs": [],
   "source": [
    "lny = np.log(y)"
   ]
  },
  {
   "cell_type": "markdown",
   "metadata": {},
   "source": [
    "## Preprocessing: Encoding Categorical Variables\n",
    "\n",
    "In the cell below, import `OneHotEncoder` from the appropriate `sklearn` module."
   ]
  },
  {
   "cell_type": "code",
   "execution_count": 6,
   "metadata": {},
   "outputs": [],
   "source": [
    "from sklearn.preprocessing import OneHotEncoder"
   ]
  },
  {
   "cell_type": "markdown",
   "metadata": {},
   "source": [
    "Create an encoder object, and then use that object to create an array containing a one-hot encoding of the categorical features. Called this encoded array `X_enc`. Print the shape of `X_enc`.  "
   ]
  },
  {
   "cell_type": "code",
   "execution_count": 7,
   "metadata": {},
   "outputs": [
    {
     "name": "stdout",
     "output_type": "stream",
     "text": [
      "(398, 8)\n"
     ]
    }
   ],
   "source": [
    "enc = OneHotEncoder(sparse=False)\n",
    "X_enc = enc.fit_transform(X_cat)\n",
    "print(X_enc.shape)"
   ]
  },
  {
   "cell_type": "markdown",
   "metadata": {},
   "source": [
    "Print the first 10 rows of `X_enc`. To check your work, you might want to compare this output with the first two rows of `df`, which you printed above. "
   ]
  },
  {
   "cell_type": "code",
   "execution_count": 8,
   "metadata": {},
   "outputs": [
    {
     "data": {
      "text/html": [
       "<div>\n",
       "<style scoped>\n",
       "    .dataframe tbody tr th:only-of-type {\n",
       "        vertical-align: middle;\n",
       "    }\n",
       "\n",
       "    .dataframe tbody tr th {\n",
       "        vertical-align: top;\n",
       "    }\n",
       "\n",
       "    .dataframe thead th {\n",
       "        text-align: right;\n",
       "    }\n",
       "</style>\n",
       "<table border=\"1\" class=\"dataframe\">\n",
       "  <thead>\n",
       "    <tr style=\"text-align: right;\">\n",
       "      <th></th>\n",
       "      <th>0</th>\n",
       "      <th>1</th>\n",
       "      <th>2</th>\n",
       "      <th>3</th>\n",
       "      <th>4</th>\n",
       "      <th>5</th>\n",
       "      <th>6</th>\n",
       "      <th>7</th>\n",
       "      <th>8</th>\n",
       "      <th>9</th>\n",
       "    </tr>\n",
       "  </thead>\n",
       "  <tbody>\n",
       "    <tr>\n",
       "      <th>0</th>\n",
       "      <td>4</td>\n",
       "      <td>eur</td>\n",
       "      <td>0.0</td>\n",
       "      <td>1.0</td>\n",
       "      <td>0.0</td>\n",
       "      <td>0.0</td>\n",
       "      <td>0.0</td>\n",
       "      <td>0.0</td>\n",
       "      <td>1.0</td>\n",
       "      <td>0.0</td>\n",
       "    </tr>\n",
       "    <tr>\n",
       "      <th>1</th>\n",
       "      <td>4</td>\n",
       "      <td>asia</td>\n",
       "      <td>0.0</td>\n",
       "      <td>1.0</td>\n",
       "      <td>0.0</td>\n",
       "      <td>0.0</td>\n",
       "      <td>0.0</td>\n",
       "      <td>1.0</td>\n",
       "      <td>0.0</td>\n",
       "      <td>0.0</td>\n",
       "    </tr>\n",
       "    <tr>\n",
       "      <th>2</th>\n",
       "      <td>6</td>\n",
       "      <td>usa</td>\n",
       "      <td>0.0</td>\n",
       "      <td>0.0</td>\n",
       "      <td>0.0</td>\n",
       "      <td>1.0</td>\n",
       "      <td>0.0</td>\n",
       "      <td>0.0</td>\n",
       "      <td>0.0</td>\n",
       "      <td>1.0</td>\n",
       "    </tr>\n",
       "    <tr>\n",
       "      <th>3</th>\n",
       "      <td>8</td>\n",
       "      <td>usa</td>\n",
       "      <td>0.0</td>\n",
       "      <td>0.0</td>\n",
       "      <td>0.0</td>\n",
       "      <td>0.0</td>\n",
       "      <td>1.0</td>\n",
       "      <td>0.0</td>\n",
       "      <td>0.0</td>\n",
       "      <td>1.0</td>\n",
       "    </tr>\n",
       "    <tr>\n",
       "      <th>4</th>\n",
       "      <td>5</td>\n",
       "      <td>eur</td>\n",
       "      <td>0.0</td>\n",
       "      <td>0.0</td>\n",
       "      <td>1.0</td>\n",
       "      <td>0.0</td>\n",
       "      <td>0.0</td>\n",
       "      <td>0.0</td>\n",
       "      <td>1.0</td>\n",
       "      <td>0.0</td>\n",
       "    </tr>\n",
       "    <tr>\n",
       "      <th>5</th>\n",
       "      <td>4</td>\n",
       "      <td>asia</td>\n",
       "      <td>0.0</td>\n",
       "      <td>1.0</td>\n",
       "      <td>0.0</td>\n",
       "      <td>0.0</td>\n",
       "      <td>0.0</td>\n",
       "      <td>1.0</td>\n",
       "      <td>0.0</td>\n",
       "      <td>0.0</td>\n",
       "    </tr>\n",
       "    <tr>\n",
       "      <th>6</th>\n",
       "      <td>4</td>\n",
       "      <td>usa</td>\n",
       "      <td>0.0</td>\n",
       "      <td>1.0</td>\n",
       "      <td>0.0</td>\n",
       "      <td>0.0</td>\n",
       "      <td>0.0</td>\n",
       "      <td>0.0</td>\n",
       "      <td>0.0</td>\n",
       "      <td>1.0</td>\n",
       "    </tr>\n",
       "    <tr>\n",
       "      <th>7</th>\n",
       "      <td>4</td>\n",
       "      <td>asia</td>\n",
       "      <td>0.0</td>\n",
       "      <td>1.0</td>\n",
       "      <td>0.0</td>\n",
       "      <td>0.0</td>\n",
       "      <td>0.0</td>\n",
       "      <td>1.0</td>\n",
       "      <td>0.0</td>\n",
       "      <td>0.0</td>\n",
       "    </tr>\n",
       "    <tr>\n",
       "      <th>8</th>\n",
       "      <td>4</td>\n",
       "      <td>eur</td>\n",
       "      <td>0.0</td>\n",
       "      <td>1.0</td>\n",
       "      <td>0.0</td>\n",
       "      <td>0.0</td>\n",
       "      <td>0.0</td>\n",
       "      <td>0.0</td>\n",
       "      <td>1.0</td>\n",
       "      <td>0.0</td>\n",
       "    </tr>\n",
       "    <tr>\n",
       "      <th>9</th>\n",
       "      <td>4</td>\n",
       "      <td>usa</td>\n",
       "      <td>0.0</td>\n",
       "      <td>1.0</td>\n",
       "      <td>0.0</td>\n",
       "      <td>0.0</td>\n",
       "      <td>0.0</td>\n",
       "      <td>0.0</td>\n",
       "      <td>0.0</td>\n",
       "      <td>1.0</td>\n",
       "    </tr>\n",
       "  </tbody>\n",
       "</table>\n",
       "</div>"
      ],
      "text/plain": [
       "   0     1    2    3    4    5    6    7    8    9\n",
       "0  4   eur  0.0  1.0  0.0  0.0  0.0  0.0  1.0  0.0\n",
       "1  4  asia  0.0  1.0  0.0  0.0  0.0  1.0  0.0  0.0\n",
       "2  6   usa  0.0  0.0  0.0  1.0  0.0  0.0  0.0  1.0\n",
       "3  8   usa  0.0  0.0  0.0  0.0  1.0  0.0  0.0  1.0\n",
       "4  5   eur  0.0  0.0  1.0  0.0  0.0  0.0  1.0  0.0\n",
       "5  4  asia  0.0  1.0  0.0  0.0  0.0  1.0  0.0  0.0\n",
       "6  4   usa  0.0  1.0  0.0  0.0  0.0  0.0  0.0  1.0\n",
       "7  4  asia  0.0  1.0  0.0  0.0  0.0  1.0  0.0  0.0\n",
       "8  4   eur  0.0  1.0  0.0  0.0  0.0  0.0  1.0  0.0\n",
       "9  4   usa  0.0  1.0  0.0  0.0  0.0  0.0  0.0  1.0"
      ]
     },
     "execution_count": 8,
     "metadata": {},
     "output_type": "execute_result"
    }
   ],
   "source": [
    "temp_df = pd.DataFrame(np.hstack((X_cat,X_enc)))\n",
    "temp_df.head(10)"
   ]
  },
  {
   "cell_type": "markdown",
   "metadata": {},
   "source": [
    "When encoding a categorical variable, we need one less dummy variable than there are categories for the variable. As a result, the array `X_enc` has two more columns than we need. We will drop columns 0 and 5 from our array. These correspond to `cyl = 3` and `region = asia`. We will thus take these categories to be the base levels for their respective variables.\n",
    "\n",
    "Run the code in the cell below to drop these two columns."
   ]
  },
  {
   "cell_type": "code",
   "execution_count": 9,
   "metadata": {},
   "outputs": [],
   "source": [
    "X_enc = X_enc[:, [1,2,3,4,6,7]]"
   ]
  },
  {
   "cell_type": "markdown",
   "metadata": {},
   "source": [
    "## Preprocessing: Merging Feature Arrays\n",
    "\n",
    "In the cell below, use `np.hstack` to combine the numerical and encoded categorical features into a single array called `X`. Place the numerical feature in the first column, followed by the categorical features. Print the shape of this array. "
   ]
  },
  {
   "cell_type": "code",
   "execution_count": 10,
   "metadata": {},
   "outputs": [
    {
     "name": "stdout",
     "output_type": "stream",
     "text": [
      "(398, 7)\n"
     ]
    }
   ],
   "source": [
    "X = np.hstack([X_num, X_enc])\n",
    "print(X.shape)"
   ]
  },
  {
   "cell_type": "markdown",
   "metadata": {},
   "source": [
    "## Splitting the Data\n",
    "\n",
    "Create a 60/20/20 train/validation/test split of the data by completing the two lines of code below. Use `X` as the feature array, and use `lny` for the label array. In each call to `train_test_split`, please set `random_state=1`."
   ]
  },
  {
   "cell_type": "code",
   "execution_count": 13,
   "metadata": {
    "scrolled": true
   },
   "outputs": [
    {
     "name": "stdout",
     "output_type": "stream",
     "text": [
      "(238, 7)\n",
      "(80, 7)\n",
      "(80, 7)\n"
     ]
    }
   ],
   "source": [
    "X_train, X_holdout, lny_train, lny_holdout = train_test_split(X, lny, test_size = 0.4, random_state=1)\n",
    "X_val, X_test, lny_val, lny_test = train_test_split(X_holdout, lny_holdout, test_size=0.5, random_state=1)\n",
    "\n",
    "print(X_train.shape)\n",
    "print(X_val.shape)\n",
    "print(X_test.shape)"
   ]
  },
  {
   "cell_type": "markdown",
   "metadata": {},
   "source": [
    "## Create SLR Model\n",
    "\n",
    "Begin by creating a simple linear regression model, named `mod1`. For this model, use only the first column of your feature arrays, which should contain the weight feature. You can select the first column of `X_train` as a 2D array by using the following code: `X_train[:,[0]]`. You can use similar code to extract the first columns from `X_train` and `X_val`. \n",
    "\n",
    "After fitting your model, use the score method to print the training and validation r-squared scores. Display your results as follows:\n",
    "\n",
    "    Training r-Squared:   0.7620105853956016\n",
    "    Validation r-Squared: 0.7789050064813834\n",
    "\n",
    "If all previous steps have been completed correctly, you should get the output shown above. "
   ]
  },
  {
   "cell_type": "code",
   "execution_count": 14,
   "metadata": {
    "scrolled": true
   },
   "outputs": [
    {
     "name": "stdout",
     "output_type": "stream",
     "text": [
      "Training r-Squared:  0.7620105853956016\n",
      "Validation r-Squared: 0.7789050064813832\n"
     ]
    }
   ],
   "source": [
    "mod1 = LinearRegression()\n",
    "mod1.fit(X_train[:,[0]], lny_train)\n",
    "\n",
    "print('Training r-Squared: ', mod1.score(X_train[:,[0]], lny_train))\n",
    "print('Validation r-Squared:', mod1.score(X_val[:,[0]], lny_val))"
   ]
  },
  {
   "cell_type": "markdown",
   "metadata": {},
   "source": [
    "## Full Model\n",
    "Now create a linear regression model using the entire set of features. Name the model `mod2`. After fitting your model, use the score method to print the training and validation r-squared scores. Display your results as follows:\n",
    "\n",
    "    Training r-Squared:   ####\n",
    "    Validation r-Squared: ####"
   ]
  },
  {
   "cell_type": "code",
   "execution_count": 15,
   "metadata": {},
   "outputs": [
    {
     "name": "stdout",
     "output_type": "stream",
     "text": [
      "Training r-Squared:  0.7990385476373598\n",
      "Validation r-Squared: 0.7986809002757767\n"
     ]
    }
   ],
   "source": [
    "mod2 = LinearRegression()\n",
    "mod2.fit(X_train, lny_train)\n",
    "\n",
    "print('Training r-Squared: ', mod2.score(X_train, lny_train))\n",
    "print('Validation r-Squared:', mod2.score(X_val, lny_val))"
   ]
  },
  {
   "cell_type": "markdown",
   "metadata": {},
   "source": [
    "## Testing r-Squared\n",
    "\n",
    "In the cell below, print the testing r-squared value for `mod2`. Display your result as follows:\n",
    "\n",
    "    Testing r-Squared:  ####"
   ]
  },
  {
   "cell_type": "code",
   "execution_count": 16,
   "metadata": {},
   "outputs": [
    {
     "name": "stdout",
     "output_type": "stream",
     "text": [
      "Testing r-Squared:    0.7819790868750096\n"
     ]
    }
   ],
   "source": [
    "print('Testing r-Squared:   ', mod2.score(X_test, lny_test))"
   ]
  },
  {
   "cell_type": "markdown",
   "metadata": {},
   "source": [
    "## Generating Predictions"
   ]
  },
  {
   "cell_type": "markdown",
   "metadata": {},
   "source": [
    "In the cell below, create a 2D array called `X_new` that contains the encoded features for 4 cars with the following characteristics:\n",
    "\n",
    "1. 2200 lbs, 3 cylinders, manufactured in Asia.\n",
    "2. 3200 lbs, 6 cylinders, manufactured in Asia.\n",
    "3. 2400 lbs, 4 cylinders, manufactured in Europe.\n",
    "4. 3600 lbs, 8 cylinders, manufactured in USA.\n",
    "\n",
    "Use the `predict` method of `mod2` to predict the `ln(MPG)` for each of the vehicles. Then use `np.exp` to calculate the predicted `MPG`. Print the `MPG` predicted by the model."
   ]
  },
  {
   "cell_type": "code",
   "execution_count": 17,
   "metadata": {},
   "outputs": [
    {
     "name": "stdout",
     "output_type": "stream",
     "text": [
      "[3.06655503 3.05677851 3.30029434 2.90799694]\n",
      "[21.46781919 21.25896122 27.1206205  18.32006556]\n"
     ]
    }
   ],
   "source": [
    "w= pd.Series([2200, 3200, 2400, 3600])\n",
    "c= pd.Series([3,6,4,8])\n",
    "m= pd.Series(['asia','asia','europe','usa'])\n",
    "\n",
    "df_new = pd.DataFrame({'Weight': w,'Cylinders':c,'Manufacuture':m})\n",
    "\n",
    "num = df_new.iloc[:,[0]].values\n",
    "cat = df_new.iloc[:,[1,2]].values\n",
    "cat = np.concatenate([cat, X_cat], axis =0) \n",
    "\n",
    "caenc = enc.fit_transform(cat)\n",
    "caenc =caenc[:,[1,2,3,4,6,7]]\n",
    "X_new  = np.hstack([num, caenc[0:4,:]])\n",
    "preditction = mod2.predict(X_new)\n",
    "print(preditction)\n",
    "predicted_MPG = np.exp(preditction)\n",
    "print(predicted_MPG )"
   ]
  },
  {
   "cell_type": "code",
   "execution_count": null,
   "metadata": {},
   "outputs": [],
   "source": []
  }
 ],
 "metadata": {
  "kernelspec": {
   "display_name": "Python 3 (ipykernel)",
   "language": "python",
   "name": "python3"
  },
  "language_info": {
   "codemirror_mode": {
    "name": "ipython",
    "version": 3
   },
   "file_extension": ".py",
   "mimetype": "text/x-python",
   "name": "python",
   "nbconvert_exporter": "python",
   "pygments_lexer": "ipython3",
   "version": "3.9.13"
  }
 },
 "nbformat": 4,
 "nbformat_minor": 2
}
