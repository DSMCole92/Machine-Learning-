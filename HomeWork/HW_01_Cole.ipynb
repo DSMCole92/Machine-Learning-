{
 "cells": [
  {
   "cell_type": "markdown",
   "metadata": {},
   "source": [
    "## Homework 01 \n",
    "\n",
    "**W. Golik**\n",
    "\n",
    "**DSCI 35600 - Machine Learning**\n",
    "\n",
    "** Due Sunday,  Feb. 05**\n",
    "\n"
   ]
  },
  {
   "cell_type": "markdown",
   "metadata": {},
   "source": [
    "In this assignment, we will create two different implementations for the predict and loss (SSE) functions for a linear regression model. The first implementation will use lists and only tools that are found in base Python. The second implementation will make use of NumPy arrays. This assignment will give you experience writing Python code, working with NumPy, calculating loss for regression problems, and working with Scikit-Learn. \n",
    "\n",
    "In order to help you do this homework we implement  PREDICT1()  and PREDICT2() in class on Jan 30.\n",
    "You will be required to complete this homework by implementing SSE1().   "
   ]
  },
  {
   "cell_type": "markdown",
   "metadata": {},
   "source": [
    "### Part 0: Preliminaries\n"
   ]
  },
  {
   "cell_type": "code",
   "execution_count": 1,
   "metadata": {},
   "outputs": [
    {
     "name": "stdout",
     "output_type": "stream",
     "text": [
      "[[7, 3, 8], [1, 5, 6], [3, 5, 9], [6, 1, 7], [2, 3, 1]]\n",
      "[1, 5, 6]\n",
      "6\n"
     ]
    }
   ],
   "source": [
    "#here we set up some values for x  and some values for beta...\n",
    "# we assume that each value of y there are 3 values of x:  x1, x2, x3\n",
    "#let's create 5 sets of x-values and corresponding y values... \n",
    "X_list = [[7, 3, 8], [1, 5, 6], [3, 5, 9], [6, 1, 7], [2, 3, 1]]\n",
    "y_list = [ 1, 3,  5,  6, 4]\n",
    "#we want the model  y= beta0 + beta1*x1 + beta2*x2 +beta3*3\n",
    "#suppose that we found the right beta and they are:\n",
    "beta_list = [2.4, 0.1, -0.4, 0.3]\n",
    "\n",
    "#here we show how to access specific values in X_list\n",
    "#the same ideas works for y_list and  beta_list\n",
    "print(X_list)\n",
    "print(X_list[1])\n",
    "print(X_list[1][2])"
   ]
  },
  {
   "cell_type": "code",
   "execution_count": 2,
   "metadata": {},
   "outputs": [
    {
     "name": "stdout",
     "output_type": "stream",
     "text": [
      "[9, 3, 6, 8, 7]\n",
      "[5, 2, 3, 1, 8]\n",
      "[4, 6, 2, 5, 1]\n"
     ]
    }
   ],
   "source": [
    "# here we create another list set of x values \n",
    "# and print one row after the other using the FOR loop\n",
    "X = [[9, 3, 6, 8, 7], [5, 2, 3, 1, 8], [4, 6, 2, 5, 1]]\n",
    "for row in X:\n",
    "    row_copy = row.copy()\n",
    "    print(row_copy)\n"
   ]
  },
  {
   "cell_type": "code",
   "execution_count": 3,
   "metadata": {},
   "outputs": [
    {
     "name": "stdout",
     "output_type": "stream",
     "text": [
      "[1, 9, 3, 6, 8, 7]\n",
      "[1, 5, 2, 3, 1, 8]\n",
      "[1, 4, 6, 2, 5, 1]\n"
     ]
    }
   ],
   "source": [
    "# here we use the same X as above\n",
    "# insert 1 into each row\n",
    "# and print out the row with extra 1 in each row...\n",
    "\n",
    "#note that X is not changed but this;  \n",
    "#we only change the temporary variable row_copy   \n",
    "X = [[9, 3, 6, 8, 7], [5, 2, 3, 1, 8], [4, 6, 2, 5, 1]]\n",
    "for row in X:\n",
    "    row_copy = row.copy()\n",
    "    row_copy.insert(0, 1)\n",
    "    print(row_copy)"
   ]
  },
  {
   "cell_type": "markdown",
   "metadata": {},
   "source": [
    "At this stage it is useful to open the file HW_01_Supplement.ipynb\n",
    "to see examples of Python loops, etc."
   ]
  },
  {
   "cell_type": "markdown",
   "metadata": {},
   "source": [
    "### Part 1: List Implementation\n",
    "\n",
    "In the cell below, write a function called `predict1`. It should take two parameters, `beta` and `X`. \n",
    "* `beta` is intended to be a list of (not necessarily optimal) model parameters $b_0, b_1, b_2, ..., b_p$. \n",
    "* `X` will be a list of lists. Each sublist will represent feature values $x^{(1)}_i, x^{(2)}_i, ..., x^{(p)}_i$ for one of the $n$ observations. \n",
    "\n",
    "The function should return a list `y_hat` that contains the predicted $y$ values for each of the $n$ observations. These predicted values are calculated as follows: $\\hat{y}_i = b_0 + b_1 x^{(1)}_i + b_2 x^{(2)}_i + ... + b_p x^{(p)}_i$. Pseudocode and some hints will be provided in the HW 01 supplement notebook."
   ]
  },
  {
   "cell_type": "code",
   "execution_count": 4,
   "metadata": {},
   "outputs": [
    {
     "data": {
      "text/plain": [
       "4.3"
      ]
     },
     "execution_count": 4,
     "metadata": {},
     "output_type": "execute_result"
    }
   ],
   "source": [
    "# Here's an example.\n",
    "# Suppose that beta=[2.4, 0.1, -0.4, 0.3] and X = [7, 3, 8]\n",
    "# basically, we want  function PREDICT1() to perform the following operation:\n",
    "\n",
    "2.4*1 +  0.1*7 + (-.4)*3 + .3*8\n",
    "\n",
    "# to do that we have to insert a 1 into X\n",
    "# then use the loop to mulitply beta and appended X"
   ]
  },
  {
   "cell_type": "code",
   "execution_count": 5,
   "metadata": {},
   "outputs": [],
   "source": [
    "def predict1(beta, X):\n",
    "#    Create y_hat as an empty list.\n",
    "##    Loop over each row (observation) of X:\n",
    "#        Create a copy of the row.\n",
    "#        Insert 1 at the beginning of the row. \n",
    "#        Loop over all elements of row:\n",
    "#            Multiply the current elements of row and beta; update a running total. \n",
    "#        Append the total to y_hat.\n",
    "    y_hat = []\n",
    "    for row in X:\n",
    "        row_copy=row.copy()\n",
    "        row_copy.insert(0, 1)\n",
    "        sum=0\n",
    "        for k in range(0, len(row_copy)):\n",
    "            sum += beta[k]*row_copy[k]\n",
    "        y_hat = y_hat + [sum]   \n",
    "    return y_hat\n",
    "\n"
   ]
  },
  {
   "cell_type": "markdown",
   "metadata": {},
   "source": [
    "Two lists called `X_list` and `beta_list` are defined in the cell below. Pass these to the function `predict1` and print the results. "
   ]
  },
  {
   "cell_type": "code",
   "execution_count": 6,
   "metadata": {
    "scrolled": true
   },
   "outputs": [
    {
     "name": "stdout",
     "output_type": "stream",
     "text": [
      "[4.3, 2.3, 3.4, 4.7, 1.7]\n"
     ]
    }
   ],
   "source": [
    "#here we call PREDICT1() with the lists we just created\n",
    "result = predict1( beta_list,  X_list)\n",
    "print(result)"
   ]
  },
  {
   "cell_type": "markdown",
   "metadata": {},
   "source": [
    "In the cell below, create a function called `sse1`. This function should take three paramaters: `beta`, `X`, and `y`. \n",
    "* The parameters `beta` and `X` will be defined as they were in the function `predict1`. \n",
    "* `y` should be a list with $n$ entries containing the true $y$ values for each of the $n$ observations. \n",
    "\n",
    "This function should calculate and return the SSE loss for the model defined by `beta`, as calculated on the dataset given by `X` and `y`. Pseudocode is provided in the supplement."
   ]
  },
  {
   "cell_type": "code",
   "execution_count": 11,
   "metadata": {},
   "outputs": [],
   "source": [
    "#def sse1(beta, X, y):\n",
    "#    Use predict1() to find y_hat. \n",
    "#    Loop over the elements of y:\n",
    "#        Calculate the error for this observation. \n",
    "#        Square the error, and add it to a running total, sse. \n",
    "#    return sse. \n",
    "\n",
    "def sse1(beta, X, y):\n",
    "    y_hat = prediect1(beta, y)\n",
    "    for elements in y:\n",
    "        \n",
    "    \n",
    "    \n",
    "    return sse1"
   ]
  },
  {
   "cell_type": "markdown",
   "metadata": {},
   "source": [
    "A list called `y_list` is defined in the cell below. Pass `beta_list`, `X_list`, and `y_list` to `sse1` and print the results."
   ]
  },
  {
   "cell_type": "code",
   "execution_count": 12,
   "metadata": {},
   "outputs": [
    {
     "name": "stdout",
     "output_type": "stream",
     "text": [
      "<function sse1 at 0x7fa69008e670>\n"
     ]
    }
   ],
   "source": [
    "y_list = [5, 2, 5, 4, 3]\n",
    "print(sse1(beta_list, X_list, y_list ))\n"
   ]
  },
  {
   "cell_type": "markdown",
   "metadata": {},
   "source": [
    "### Part 2: Array Implementation\n",
    "\n",
    "In this part, you will be asked to implement the predict and loss functions of a linear regression model using NumPy arrays. Begin by importing `numpy` under the alias `np`."
   ]
  },
  {
   "cell_type": "code",
   "execution_count": null,
   "metadata": {},
   "outputs": [],
   "source": [
    "import numpy as np"
   ]
  },
  {
   "cell_type": "markdown",
   "metadata": {},
   "source": [
    "In the cell below, use the lists `X_list`, `y_list`, and `beta_list` to create arrays `X_array`, `y_array`, and `beta_array`.  Print the shape of each of these arrays, along with some text explain which shape is associated with which array."
   ]
  },
  {
   "cell_type": "code",
   "execution_count": null,
   "metadata": {},
   "outputs": [],
   "source": [
    "print(\"this is X_list\")\n",
    "print(X_list)\n",
    "X_array = np.array(X_list)\n",
    "y_array = np.array(y_list)\n",
    "beta_array=np.array(beta_list)\n",
    "print(\"this is X_array\")\n",
    "print(X_array)"
   ]
  },
  {
   "cell_type": "markdown",
   "metadata": {},
   "source": [
    "In the cell below, write a function called `predict2`. It should take two parameters, `beta` and `X`. \n",
    "* `beta` is intended to be an array of (not necessarily optimal) model parameters $b_0, b_1, b_2, ..., b_p$. \n",
    "* `X` will be a 2D feature array with one row for each of the $n$ observations, and one column for each of the $p$ features. \n",
    "\n",
    "The function should return an array `y_hat` that contains the predicted $y$ values for each of the $n$ observations. This array should have the same shape as `y`, which is `(n,)`. **This function should make use of NumPy, and should not use any loops.** Pseudocode and some hints will be provided in the HW 01 supplement notebook."
   ]
  },
  {
   "cell_type": "code",
   "execution_count": null,
   "metadata": {},
   "outputs": [],
   "source": [
    "#def predict2(beta, X):\n",
    " #   Create a copy of X so that we do not alter the original feature matrix.\n",
    " #   Concatenate a column of ones to the front of X_copy. \n",
    " #   Find y_hat by multiplying X_copy with the transpose of beta. Use np.dot.\n",
    " #   Reshape y_hat into a 1D array. \n",
    " #   return y_hat \n",
    "\n",
    "def predict2(beta, X):\n",
    "    X_copy = X.copy()\n",
    "    ones = np.ones((X.shape[0], 1))\n",
    "    X_copy = np.hstack((ones, X_copy))\n",
    "    #print(X_copy)\n",
    "    y_hat = np.dot(X_copy, np.transpose(beta))  #need the tranpose of beta \n",
    "    y_hat = np.transpose(y_hat)  #need the tranpose of y_hat\n",
    "    return y_hat   \n"
   ]
  },
  {
   "cell_type": "markdown",
   "metadata": {},
   "source": [
    "Pass `X_array` and `beta_array` to `predict2` and print the results. "
   ]
  },
  {
   "cell_type": "code",
   "execution_count": null,
   "metadata": {},
   "outputs": [],
   "source": [
    "y_hat = predict2(beta_array , X_array  )\n",
    "print(y_hat)"
   ]
  },
  {
   "cell_type": "markdown",
   "metadata": {},
   "source": [
    "In the cell below, create a function called `sse2`. This function should take three paramaters: `beta`, `X`, and `y`. \n",
    "* The parameters `beta` and `X` will be defined as they were in the function `predict2`. \n",
    "* `y` should be an array with $n$ entries containing the true $y$ values for each of the $n$ observations. \n",
    "\n",
    "This function should calculate and return the SSE loss for the model defined by `beta`, as calculated on the dataset given by `X` and `y`. **This function should make use of NumPy, and should not use any loops.** Pseudocode is provided in the supplement."
   ]
  },
  {
   "cell_type": "code",
   "execution_count": null,
   "metadata": {},
   "outputs": [],
   "source": [
    "def sse2(beta, X, y):\n",
    "#   Use predict2 to calculate y_hat. \n",
    "#   Calculate the errors as the difference between y and y_hat. \n",
    "#   Find sse by squaring the error array, and then sum the entries. \n",
    "    y_hat=predict2(beta, X)\n",
    "    #print('this is y_hat',  y_hat)\n",
    "    #print('this is y    ', y)\n",
    "    error=y_hat-y\n",
    "    #print('this is error ', error)\n",
    "    sse=np.sum(error**2)\n",
    "    return sse   "
   ]
  },
  {
   "cell_type": "markdown",
   "metadata": {},
   "source": [
    "Pass `beta_array`, `X_array`, and `y_array` to `sse2` and print the results."
   ]
  },
  {
   "cell_type": "code",
   "execution_count": null,
   "metadata": {},
   "outputs": [],
   "source": [
    "print(beta_array)\n",
    "print( sse2(beta_array, X_array, y_array) )"
   ]
  },
  {
   "cell_type": "markdown",
   "metadata": {
    "collapsed": true
   },
   "source": [
    "### Part 3: Minimizing SSE by hand and by using LinearRegression"
   ]
  },
  {
   "cell_type": "markdown",
   "metadata": {},
   "source": [
    "Create an array called `beta_array2` with shape `(4,)`. The values in this array should be similar to those in `beta_array`, but each entry should be shifted upward or downward by 0.1. Pass this new array, along with `X_array` and `y_array` to the function `sse2`. \n",
    "\n",
    "Your goal is find a new coefficicent array (i.e. model) that produces a lower value for the loss. Set the values of `beta_array2` to try to get the loss as small as possible, considering only arrays of the form $\\left[ (2.4 \\pm 0.1), (0.1 \\pm 0.1), (-0.4\\pm 0.1), (0.3\\pm 0.1) \\right]$"
   ]
  },
  {
   "cell_type": "code",
   "execution_count": null,
   "metadata": {},
   "outputs": [],
   "source": [
    "NEWbeta_array = np.array([2.4+0.1,0.1+0.1,-0.4-0.1,0.3-0.1])\n",
    "print(NEWbeta_array)\n",
    "print(sse2(NEWbeta_array, X_array, y_array))"
   ]
  },
  {
   "cell_type": "markdown",
   "metadata": {},
   "source": [
    "Replace the blanks in the code below to use Scikit-Learn to find the optimal parameter values. Print these. "
   ]
  },
  {
   "cell_type": "code",
   "execution_count": null,
   "metadata": {
    "scrolled": true
   },
   "outputs": [],
   "source": [
    "from sklearn.linear_model import LinearRegression\n",
    "model = LinearRegression()\n",
    "model.fit(X_array,y_array)\n",
    "print('these are optimal BETA coefficients')\n",
    "print(model.intercept_ )\n",
    "print(model.coef_)\n"
   ]
  },
  {
   "cell_type": "markdown",
   "metadata": {},
   "source": [
    "In the cell below, create a single array called `beta_opt` that contains the optimal parameter values found by Scikit-Learn. Pass `beta_opt`, `X_array`, and `y_array` to the function `sse2`. "
   ]
  },
  {
   "cell_type": "code",
   "execution_count": null,
   "metadata": {},
   "outputs": [],
   "source": [
    "beta_opt=np.hstack( ([model.intercept_] ,  model.coef_) )\n",
    "beta_opt=np.array(beta_opt)\n",
    "#print(beta_opt.shape)\n",
    "#print(beta_opt)\n",
    "\n",
    "print('this is the optimal SSE')\n",
    "print ( sse2(beta_opt, X_array, y_array ) )\n",
    "\n"
   ]
  },
  {
   "cell_type": "code",
   "execution_count": null,
   "metadata": {},
   "outputs": [],
   "source": []
  }
 ],
 "metadata": {
  "kernelspec": {
   "display_name": "Python 3 (ipykernel)",
   "language": "python",
   "name": "python3"
  },
  "language_info": {
   "codemirror_mode": {
    "name": "ipython",
    "version": 3
   },
   "file_extension": ".py",
   "mimetype": "text/x-python",
   "name": "python",
   "nbconvert_exporter": "python",
   "pygments_lexer": "ipython3",
   "version": "3.9.13"
  }
 },
 "nbformat": 4,
 "nbformat_minor": 2
}
