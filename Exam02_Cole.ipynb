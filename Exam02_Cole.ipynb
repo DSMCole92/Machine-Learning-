{
 "cells": [
  {
   "cell_type": "markdown",
   "metadata": {},
   "source": [
    "## Exam 02 -  Spring 2021\n",
    "\n",
    "**Cole**\n",
    "\n",
    "**DSCI 35600 - Machine Learning**"
   ]
  },
  {
   "cell_type": "markdown",
   "metadata": {},
   "source": [
    "## Part 1A: Import Packages and Load Dataset"
   ]
  },
  {
   "cell_type": "markdown",
   "metadata": {},
   "source": [
    "In the cell below, import the following packages using the standard aliases: `numpy`, `matplotlib.pyplot`, and `pandas`. Also import the following classes and functions from `sklearn`: `train_test_split`, `LogisticRegression`, `KNeighborsClassifier`, `DecisionTreeClassifier`, `RandomForestClassifier`, `StandardScaler`, and `OneHotEncoder`.  "
   ]
  },
  {
   "cell_type": "code",
   "execution_count": 59,
   "metadata": {},
   "outputs": [],
   "source": [
    "import numpy as np\n",
    "import matplotlib.pyplot as plt\n",
    "import pandas as pd\n",
    "\n",
    "from sklearn.linear_model import LogisticRegression\n",
    "from sklearn.neighbors import KNeighborsClassifier\n",
    "from sklearn.tree import DecisionTreeClassifier\n",
    "from sklearn.ensemble import RandomForestClassifier\n",
    "\n",
    "from sklearn.model_selection import train_test_split\n",
    "from sklearn.preprocessing import OneHotEncoder\n",
    "from sklearn.preprocessing import StandardScaler"
   ]
  },
  {
   "cell_type": "markdown",
   "metadata": {},
   "source": [
    "Use `pandas` to load the contents of the tab-separated file `Salaries.txt` into a dataframe called `df`. Display the first 10 rows of this dataframe."
   ]
  },
  {
   "cell_type": "code",
   "execution_count": 60,
   "metadata": {},
   "outputs": [
    {
     "data": {
      "text/html": [
       "<div>\n",
       "<style scoped>\n",
       "    .dataframe tbody tr th:only-of-type {\n",
       "        vertical-align: middle;\n",
       "    }\n",
       "\n",
       "    .dataframe tbody tr th {\n",
       "        vertical-align: top;\n",
       "    }\n",
       "\n",
       "    .dataframe thead th {\n",
       "        text-align: right;\n",
       "    }\n",
       "</style>\n",
       "<table border=\"1\" class=\"dataframe\">\n",
       "  <thead>\n",
       "    <tr style=\"text-align: right;\">\n",
       "      <th></th>\n",
       "      <th>rank</th>\n",
       "      <th>discipline</th>\n",
       "      <th>yrs.since.phd</th>\n",
       "      <th>yrs.service</th>\n",
       "      <th>sex</th>\n",
       "      <th>salary</th>\n",
       "    </tr>\n",
       "  </thead>\n",
       "  <tbody>\n",
       "    <tr>\n",
       "      <th>0</th>\n",
       "      <td>Prof</td>\n",
       "      <td>B</td>\n",
       "      <td>19</td>\n",
       "      <td>18</td>\n",
       "      <td>Male</td>\n",
       "      <td>139750</td>\n",
       "    </tr>\n",
       "    <tr>\n",
       "      <th>1</th>\n",
       "      <td>Prof</td>\n",
       "      <td>B</td>\n",
       "      <td>20</td>\n",
       "      <td>16</td>\n",
       "      <td>Male</td>\n",
       "      <td>173200</td>\n",
       "    </tr>\n",
       "    <tr>\n",
       "      <th>2</th>\n",
       "      <td>AsstProf</td>\n",
       "      <td>B</td>\n",
       "      <td>4</td>\n",
       "      <td>3</td>\n",
       "      <td>Male</td>\n",
       "      <td>79750</td>\n",
       "    </tr>\n",
       "    <tr>\n",
       "      <th>3</th>\n",
       "      <td>Prof</td>\n",
       "      <td>B</td>\n",
       "      <td>45</td>\n",
       "      <td>39</td>\n",
       "      <td>Male</td>\n",
       "      <td>115000</td>\n",
       "    </tr>\n",
       "    <tr>\n",
       "      <th>4</th>\n",
       "      <td>Prof</td>\n",
       "      <td>B</td>\n",
       "      <td>40</td>\n",
       "      <td>41</td>\n",
       "      <td>Male</td>\n",
       "      <td>141500</td>\n",
       "    </tr>\n",
       "    <tr>\n",
       "      <th>...</th>\n",
       "      <td>...</td>\n",
       "      <td>...</td>\n",
       "      <td>...</td>\n",
       "      <td>...</td>\n",
       "      <td>...</td>\n",
       "      <td>...</td>\n",
       "    </tr>\n",
       "    <tr>\n",
       "      <th>195</th>\n",
       "      <td>AssocProf</td>\n",
       "      <td>B</td>\n",
       "      <td>9</td>\n",
       "      <td>7</td>\n",
       "      <td>Male</td>\n",
       "      <td>113600</td>\n",
       "    </tr>\n",
       "    <tr>\n",
       "      <th>196</th>\n",
       "      <td>AsstProf</td>\n",
       "      <td>B</td>\n",
       "      <td>4</td>\n",
       "      <td>4</td>\n",
       "      <td>Male</td>\n",
       "      <td>92700</td>\n",
       "    </tr>\n",
       "    <tr>\n",
       "      <th>197</th>\n",
       "      <td>AsstProf</td>\n",
       "      <td>B</td>\n",
       "      <td>4</td>\n",
       "      <td>4</td>\n",
       "      <td>Male</td>\n",
       "      <td>92000</td>\n",
       "    </tr>\n",
       "    <tr>\n",
       "      <th>198</th>\n",
       "      <td>Prof</td>\n",
       "      <td>B</td>\n",
       "      <td>34</td>\n",
       "      <td>33</td>\n",
       "      <td>Male</td>\n",
       "      <td>189409</td>\n",
       "    </tr>\n",
       "    <tr>\n",
       "      <th>199</th>\n",
       "      <td>Prof</td>\n",
       "      <td>B</td>\n",
       "      <td>38</td>\n",
       "      <td>22</td>\n",
       "      <td>Male</td>\n",
       "      <td>114500</td>\n",
       "    </tr>\n",
       "  </tbody>\n",
       "</table>\n",
       "<p>200 rows × 6 columns</p>\n",
       "</div>"
      ],
      "text/plain": [
       "          rank discipline  yrs.since.phd  yrs.service   sex  salary\n",
       "0         Prof          B             19           18  Male  139750\n",
       "1         Prof          B             20           16  Male  173200\n",
       "2     AsstProf          B              4            3  Male   79750\n",
       "3         Prof          B             45           39  Male  115000\n",
       "4         Prof          B             40           41  Male  141500\n",
       "..         ...        ...            ...          ...   ...     ...\n",
       "195  AssocProf          B              9            7  Male  113600\n",
       "196   AsstProf          B              4            4  Male   92700\n",
       "197   AsstProf          B              4            4  Male   92000\n",
       "198       Prof          B             34           33  Male  189409\n",
       "199       Prof          B             38           22  Male  114500\n",
       "\n",
       "[200 rows x 6 columns]"
      ]
     },
     "execution_count": 60,
     "metadata": {},
     "output_type": "execute_result"
    }
   ],
   "source": [
    "df = pd.read_csv('Salaries.txt', sep='\\t')\n",
    "df.head(200)"
   ]
  },
  {
   "cell_type": "markdown",
   "metadata": {},
   "source": [
    "**Your goal in this assignment will be to use features: discipline, yrs.since.phd, yrs.service, sex, salary to predict the value of the following label y: rank.**"
   ]
  },
  {
   "cell_type": "markdown",
   "metadata": {},
   "source": [
    "## Part 1B: Preparing the Data   (10 points)\n",
    "\n",
    "In the cell below, create the following arrays:\n",
    "\n",
    "* `X_num` should contain the columns of `df` associated with numerical variables. \n",
    "* `X_cat` should contain the columns of `df` associated with categorical variables. \n",
    "* `y` should be a 1D array contain the values of the label, `y`. \n",
    "\n",
    "Print the shapes of these three arrays."
   ]
  },
  {
   "cell_type": "code",
   "execution_count": 61,
   "metadata": {},
   "outputs": [
    {
     "name": "stdout",
     "output_type": "stream",
     "text": [
      "(397, 3)\n",
      "(397, 2)\n",
      "(397,)\n"
     ]
    }
   ],
   "source": [
    "X_num = df.iloc[:, [2,3,5]].values\n",
    "X_cat = df.iloc[:, [1,4]].values.astype('str')\n",
    "y = df.iloc[:, -1].values\n",
    "\n",
    "print(X_num.shape)\n",
    "print(X_cat.shape)\n",
    "print(y.shape)"
   ]
  },
  {
   "cell_type": "markdown",
   "metadata": {},
   "source": [
    "#### Numerical Features\n",
    "Split `Xnum` into training and validation sets called `X_num_train` and `X_num_val`. Use an 80/20 split, and set `random_state=1`. \n",
    "\n",
    "Then use the `StandardScaler` class to scale the numerical data. Name the resulting arrays `X_sca_train` and `X_sca_val`. Print the shape of these two arrays. "
   ]
  },
  {
   "cell_type": "code",
   "execution_count": 62,
   "metadata": {},
   "outputs": [
    {
     "name": "stdout",
     "output_type": "stream",
     "text": [
      "(317, 3)\n",
      "(80, 3)\n"
     ]
    }
   ],
   "source": [
    "X_num_train, X_num_val, y_train, y_val = train_test_split (X_num, y, test_size = 0.2, random_state=1)\n",
    "scaler = StandardScaler()\n",
    "scaler.fit(X_num_train)\n",
    "\n",
    "X_sca_train = scaler.transform(X_num_train)\n",
    "X_sca_val = scaler.transform(X_num_val)\n",
    "\n",
    "print(X_sca_train.shape)\n",
    "print(X_sca_val.shape)"
   ]
  },
  {
   "cell_type": "markdown",
   "metadata": {},
   "source": [
    "#### Categorical Features\n",
    "\n",
    "Use the `OneHotEncoder` class to encode the categorical feature array (setting `sparse=False`). Store the results in an array called `X_enc`. \n",
    "\n",
    "Split `X_enc` into training and validation sets called `X_enc_train` and `X_enc_val`. Use an 80/20 split, and set `random_state=1`. Print the shapes of these two arrays."
   ]
  },
  {
   "cell_type": "code",
   "execution_count": 63,
   "metadata": {},
   "outputs": [
    {
     "name": "stdout",
     "output_type": "stream",
     "text": [
      "(317, 4)\n",
      "(80, 4)\n"
     ]
    }
   ],
   "source": [
    "encoder = OneHotEncoder(sparse=False)\n",
    "encoder.fit(X_cat)\n",
    "X_enc = encoder.transform(X_cat)\n",
    "\n",
    "X_enc_train, X_enc_val, y_train, y_val = train_test_split(X_enc, y, test_size = 0.2, random_state=1)\n",
    "\n",
    "print(X_enc_train.shape)\n",
    "print(X_enc_val.shape)"
   ]
  },
  {
   "cell_type": "markdown",
   "metadata": {},
   "source": [
    "#### Combine Numerical and Categorial Features\n",
    "\n",
    "Use `np.hstack()` to combine `X_sca_train` and `X_enc_train` into an array called `X_train`. Then combine `X_sca_val` and `X_enc_val` into an array called `X_val`. Print the shapes of the two new arrays."
   ]
  },
  {
   "cell_type": "code",
   "execution_count": 64,
   "metadata": {},
   "outputs": [
    {
     "name": "stdout",
     "output_type": "stream",
     "text": [
      "(317, 7)\n",
      "(80, 7)\n"
     ]
    }
   ],
   "source": [
    "X_train = np.hstack([X_sca_train, X_enc_train])\n",
    "X_val = np.hstack([X_sca_val, X_enc_val])\n",
    "\n",
    "print(X_train.shape)\n",
    "print(X_val.shape)"
   ]
  },
  {
   "cell_type": "markdown",
   "metadata": {},
   "source": [
    "## Part 1C: Logistic Regression Model   (10 points)\n",
    "\n",
    "In the cell below, create and fit several logistic regression models, each with a different value for the regularization parameter `C`. In particular, consider 100 models with `C=10**k`, where `k` ranges from -3 to 3. For each model, log the training and validation accuracies in separate lists, and then plot these lists against `k`. Display a legend for your plot. \n",
    "\n",
    "Set `solver='lbfgs'` and `multi_class='ovr'` when creating your logistic regression models. "
   ]
  },
  {
   "cell_type": "code",
   "execution_count": 65,
   "metadata": {},
   "outputs": [
    {
     "data": {
      "image/png": "[encoded data removed]",
      "text/plain": [
       "<Figure size 600x400 with 1 Axes>"
      ]
     },
     "metadata": {},
     "output_type": "display_data"
    }
   ],
   "source": [
    "tr_acc = []\n",
    "va_acc = []\n",
    "\n",
    "exp_list = np.linspace(-3, 3, 100)\n",
    "\n",
    "for k in exp_list:\n",
    "    temp_model = LogisticRegression(solver='lbfgs', C=10**k, multi_class='ovr')\n",
    "    temp_model.fit(X_train, y_train)\n",
    "    tr_acc.append(temp_model.score(X_train, y_train))\n",
    "    va_acc.append(temp_model.score(X_val, y_val))\n",
    "    \n",
    "plt.figure(figsize=([6,4]))\n",
    "plt.plot(exp_list, tr_acc, label='Training Accuracy')\n",
    "plt.plot(exp_list, va_acc, label='Validation Accuracy')\n",
    "plt.xlabel('log(C)')\n",
    "plt.ylabel('Accuracy')\n",
    "plt.legend()\n",
    "plt.show()\n"
   ]
  },
  {
   "cell_type": "markdown",
   "metadata": {},
   "source": [
    "Use `np.argmax` to find the value of `k` that results in the largest validation accuracy. Print this result."
   ]
  },
  {
   "cell_type": "code",
   "execution_count": 66,
   "metadata": {},
   "outputs": [
    {
     "name": "stdout",
     "output_type": "stream",
     "text": [
      "-0.8181818181818183\n"
     ]
    }
   ],
   "source": [
    "idx = np.argmax(va_acc)\n",
    "best_logC = exp_list[idx]\n",
    "print(best_logC)"
   ]
  },
  {
   "cell_type": "markdown",
   "metadata": {},
   "source": [
    "Create a logistic regression model using the previously determined value for the regularization parameter. Print the training and validation accuracies for this model, clearly indicating which is which."
   ]
  },
  {
   "cell_type": "code",
   "execution_count": 67,
   "metadata": {},
   "outputs": [
    {
     "name": "stdout",
     "output_type": "stream",
     "text": [
      "Training Accuracy:   0.0473186119873817\n",
      "Validation Accuracy: 0.0125\n"
     ]
    }
   ],
   "source": [
    "mod_01 = LogisticRegression(solver='lbfgs', C=10**best_logC, multi_class='ovr')\n",
    "mod_01.fit(X_train, y_train)\n",
    "\n",
    "print('Training Accuracy:  ', mod_01.score(X_train, y_train))\n",
    "print('Validation Accuracy:', mod_01.score(X_val, y_val))"
   ]
  },
  {
   "cell_type": "markdown",
   "metadata": {},
   "source": [
    "## Part 1D: Decision Tree Model  (10 points)\n",
    "\n",
    "In the cell below, create and fit several decision tree models, each with a different value for the `max_depth` parameter. In particular, consider models for every value of max_depth from 1 to 20. For each model, log the training and validation accuracies in separate lists, and then plot these lists against the max depth. Display a legend for your plot. \n",
    "\n",
    "Set a seed of 1 prior to training each of your models. This should be inside of your loop. "
   ]
  },
  {
   "cell_type": "code",
   "execution_count": 68,
   "metadata": {},
   "outputs": [
    {
     "data": {
      "image/png": "[encoded data removed]",
      "text/plain": [
       "<Figure size 600x400 with 1 Axes>"
      ]
     },
     "metadata": {},
     "output_type": "display_data"
    }
   ],
   "source": [
    "tr_acc = []\n",
    "va_acc = []\n",
    "max_depth_list = range(1,20)\n",
    "\n",
    "for md in max_depth_list:\n",
    "    np.random.seed(1)\n",
    "    temp_mod = DecisionTreeClassifier(max_depth=md)\n",
    "    temp_mod.fit(X_train, y_train)\n",
    "    tr_acc.append(temp_mod.score(X_train, y_train))\n",
    "    va_acc.append(temp_mod.score(X_val, y_val))\n",
    "    \n",
    "plt.figure(figsize=([6,4]))\n",
    "plt.plot(max_depth_list, tr_acc, label='Training Accuracy')\n",
    "plt.plot(max_depth_list, va_acc, label='Validation Accuracy')\n",
    "plt.xlabel('Max Depth')\n",
    "plt.ylabel('Accuracy')\n",
    "plt.legend()\n",
    "plt.show()"
   ]
  },
  {
   "cell_type": "markdown",
   "metadata": {},
   "source": [
    "Use `np.argmax` to find the value of `max_depth` that results in the largest validation accuracy. Print this result. "
   ]
  },
  {
   "cell_type": "code",
   "execution_count": 69,
   "metadata": {},
   "outputs": [
    {
     "name": "stdout",
     "output_type": "stream",
     "text": [
      "1\n"
     ]
    }
   ],
   "source": [
    "idx = np.argmax(va_acc)\n",
    "best_depth = max_depth_list[idx]\n",
    "print(best_depth)"
   ]
  },
  {
   "cell_type": "markdown",
   "metadata": {},
   "source": [
    "Create a tree model using the previously determined value of `max_depth`. Print the training and validation accuracies for this model, clearly indicating which is which.\n",
    "\n",
    "Set a seed of 1 at the beginning of this cell."
   ]
  },
  {
   "cell_type": "code",
   "execution_count": 70,
   "metadata": {},
   "outputs": [
    {
     "ename": "ValueError",
     "evalue": "max_leaf_nodes 1 must be either None or larger than 1",
     "output_type": "error",
     "traceback": [
      "\u001b[0;31m---------------------------------------------------------------------------\u001b[0m",
      "\u001b[0;31mValueError\u001b[0m                                Traceback (most recent call last)",
      "\u001b[0;32m/var/folders/s2/qv5gt96j6_jc62hfrsc11r8h0000gn/T/ipykernel_27292/909604316.py\u001b[0m in \u001b[0;36m<module>\u001b[0;34m\u001b[0m\n\u001b[1;32m      1\u001b[0m \u001b[0mnp\u001b[0m\u001b[0;34m.\u001b[0m\u001b[0mrandom\u001b[0m\u001b[0;34m.\u001b[0m\u001b[0mseed\u001b[0m\u001b[0;34m(\u001b[0m\u001b[0;36m1\u001b[0m\u001b[0;34m)\u001b[0m\u001b[0;34m\u001b[0m\u001b[0;34m\u001b[0m\u001b[0m\n\u001b[1;32m      2\u001b[0m \u001b[0mmod_03\u001b[0m \u001b[0;34m=\u001b[0m \u001b[0mDecisionTreeClassifier\u001b[0m\u001b[0;34m(\u001b[0m\u001b[0mmax_leaf_nodes\u001b[0m\u001b[0;34m=\u001b[0m\u001b[0mbest_depth\u001b[0m\u001b[0;34m)\u001b[0m\u001b[0;34m\u001b[0m\u001b[0;34m\u001b[0m\u001b[0m\n\u001b[0;32m----> 3\u001b[0;31m \u001b[0mmod_03\u001b[0m\u001b[0;34m.\u001b[0m\u001b[0mfit\u001b[0m\u001b[0;34m(\u001b[0m\u001b[0mX_train\u001b[0m\u001b[0;34m,\u001b[0m \u001b[0my_train\u001b[0m\u001b[0;34m)\u001b[0m\u001b[0;34m\u001b[0m\u001b[0;34m\u001b[0m\u001b[0m\n\u001b[0m\u001b[1;32m      4\u001b[0m \u001b[0;34m\u001b[0m\u001b[0m\n\u001b[1;32m      5\u001b[0m \u001b[0mprint\u001b[0m\u001b[0;34m(\u001b[0m\u001b[0;34m'Training Accuracy:  '\u001b[0m\u001b[0;34m,\u001b[0m \u001b[0mmod_03\u001b[0m\u001b[0;34m.\u001b[0m\u001b[0mscore\u001b[0m\u001b[0;34m(\u001b[0m\u001b[0mX_train\u001b[0m\u001b[0;34m,\u001b[0m \u001b[0my_train\u001b[0m\u001b[0;34m)\u001b[0m\u001b[0;34m)\u001b[0m\u001b[0;34m\u001b[0m\u001b[0;34m\u001b[0m\u001b[0m\n",
      "\u001b[0;32m~/opt/anaconda3/lib/python3.9/site-packages/sklearn/tree/_classes.py\u001b[0m in \u001b[0;36mfit\u001b[0;34m(self, X, y, sample_weight, check_input, X_idx_sorted)\u001b[0m\n\u001b[1;32m    935\u001b[0m         \"\"\"\n\u001b[1;32m    936\u001b[0m \u001b[0;34m\u001b[0m\u001b[0m\n\u001b[0;32m--> 937\u001b[0;31m         super().fit(\n\u001b[0m\u001b[1;32m    938\u001b[0m             \u001b[0mX\u001b[0m\u001b[0;34m,\u001b[0m\u001b[0;34m\u001b[0m\u001b[0;34m\u001b[0m\u001b[0m\n\u001b[1;32m    939\u001b[0m             \u001b[0my\u001b[0m\u001b[0;34m,\u001b[0m\u001b[0;34m\u001b[0m\u001b[0;34m\u001b[0m\u001b[0m\n",
      "\u001b[0;32m~/opt/anaconda3/lib/python3.9/site-packages/sklearn/tree/_classes.py\u001b[0m in \u001b[0;36mfit\u001b[0;34m(self, X, y, sample_weight, check_input, X_idx_sorted)\u001b[0m\n\u001b[1;32m    312\u001b[0m             )\n\u001b[1;32m    313\u001b[0m         \u001b[0;32mif\u001b[0m \u001b[0;34m-\u001b[0m\u001b[0;36m1\u001b[0m \u001b[0;34m<\u001b[0m \u001b[0mmax_leaf_nodes\u001b[0m \u001b[0;34m<\u001b[0m \u001b[0;36m2\u001b[0m\u001b[0;34m:\u001b[0m\u001b[0;34m\u001b[0m\u001b[0;34m\u001b[0m\u001b[0m\n\u001b[0;32m--> 314\u001b[0;31m             raise ValueError(\n\u001b[0m\u001b[1;32m    315\u001b[0m                 (\"max_leaf_nodes {0} must be either None or larger than 1\").format(\n\u001b[1;32m    316\u001b[0m                     \u001b[0mmax_leaf_nodes\u001b[0m\u001b[0;34m\u001b[0m\u001b[0;34m\u001b[0m\u001b[0m\n",
      "\u001b[0;31mValueError\u001b[0m: max_leaf_nodes 1 must be either None or larger than 1"
     ]
    }
   ],
   "source": [
    "np.random.seed(1)\n",
    "mod_03 = DecisionTreeClassifier(max_leaf_nodes=best_depth)\n",
    "mod_03.fit(X_train, y_train)\n",
    "\n",
    "print('Training Accuracy:  ', mod_03.score(X_train, y_train))\n",
    "print('Validation Accuracy:', mod_03.score(X_val, y_val))"
   ]
  },
  {
   "cell_type": "markdown",
   "metadata": {},
   "source": [
    "## Part 1E: Random Forest Model (10 points)\n",
    "\n",
    "In the cell below, create and fit several random forest models, each with a different value for the `max_depth` parameter. In particular, consider models for every value of max_depth from 1 to 20. Set `n_estimators=200` for each model. After training each model, log the training and validation accuracies in seperate lists, and then plot these lists against the max depth. Label your axes, and display a legend for your plot. \n",
    "\n",
    "Set a seed of 1 prior to training each of your models. This should be inside of your loop. "
   ]
  },
  {
   "cell_type": "code",
   "execution_count": null,
   "metadata": {},
   "outputs": [],
   "source": [
    "tr_acc = []\n",
    "va_acc = []\n",
    "depth_list = range(1,20)\n",
    "\n",
    "for d in depth_list:\n",
    "    np.random.seed(1)\n",
    "    temp_mod = RandomForestClassifier(n_estimators=200, max_depth=d,   \n",
    "                                bootstrap='True', oob_score=True)\n",
    "    temp_mod.fit(X_train, y_train)\n",
    "    tr_acc.append(temp_mod.score(X_train, y_train))\n",
    "    va_acc.append(temp_mod.score(X_val, y_val))\n",
    "    \n",
    "plt.figure(figsize=([6,4]))\n",
    "plt.plot(depth_list, tr_acc, label='Training Accuracy')\n",
    "plt.plot(depth_list, va_acc, label='Validation Accuracy')\n",
    "plt.xlabel('Max Depth')\n",
    "plt.ylabel('Accuracy')\n",
    "plt.legend()\n",
    "plt.show()"
   ]
  },
  {
   "cell_type": "markdown",
   "metadata": {},
   "source": [
    "Use `np.argmax` to find the value of `max_depth` that results in the largest validation accuracy. Print this result. "
   ]
  },
  {
   "cell_type": "code",
   "execution_count": null,
   "metadata": {},
   "outputs": [],
   "source": [
    "idx = np.argmax(va_acc)\n",
    "best_d = depth_list[idx]\n",
    "print(best_d)"
   ]
  },
  {
   "cell_type": "markdown",
   "metadata": {},
   "source": [
    "Create a random forest model using the previously determined value of `max_depth` and `n_estimators=200`. Print the training and validation accuracies for this model, clearly indicating which is which.\n",
    "\n",
    "Set a seed of 1 at the beginning of this cell."
   ]
  },
  {
   "cell_type": "code",
   "execution_count": null,
   "metadata": {},
   "outputs": [],
   "source": [
    "np.random.seed(1)\n",
    "mod_04 = RandomForestClassifier(n_estimators=200, max_depth=best_d,  \n",
    "                                bootstrap='True', oob_score=True)\n",
    "mod_04.fit(X_train, y_train)\n",
    "\n",
    "print('Out of bag score:', mod_04.oob_score_)\n",
    "\n",
    "print('Training Accuracy:  ', mod_04.score(X_train, y_train))\n",
    "print('Validation Accuracy:', mod_04.score(X_val, y_val))"
   ]
  }
 ],
 "metadata": {
  "kernelspec": {
   "display_name": "Python 3 (ipykernel)",
   "language": "python",
   "name": "python3"
  },
  "language_info": {
   "codemirror_mode": {
    "name": "ipython",
    "version": 3
   },
   "file_extension": ".py",
   "mimetype": "text/x-python",
   "name": "python",
   "nbconvert_exporter": "python",
   "pygments_lexer": "ipython3",
   "version": "3.9.13"
  }
 },
 "nbformat": 4,
 "nbformat_minor": 2
}
